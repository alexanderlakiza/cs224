{
 "cells": [
  {
   "cell_type": "code",
   "execution_count": 1,
   "id": "sudden-marketing",
   "metadata": {},
   "outputs": [],
   "source": [
    "from natasha import NewsNERTagger\n",
    "from natasha import MorphVocab, NewsEmbedding, NewsMorphTagger\n",
    "from natasha import Doc, Segmenter\n",
    "import json\n",
    "import pandas as pd\n",
    "import re"
   ]
  },
  {
   "cell_type": "code",
   "execution_count": 2,
   "id": "indian-morning",
   "metadata": {},
   "outputs": [],
   "source": [
    "import pymorphy2\n",
    "analyzer = pymorphy2.MorphAnalyzer()"
   ]
  },
  {
   "cell_type": "code",
   "execution_count": 3,
   "id": "lasting-adelaide",
   "metadata": {},
   "outputs": [],
   "source": [
    "embedding = NewsEmbedding()\n",
    "segmenter = Segmenter()"
   ]
  },
  {
   "cell_type": "code",
   "execution_count": 4,
   "id": "stainless-valuable",
   "metadata": {},
   "outputs": [],
   "source": [
    "morph_tagger = NewsMorphTagger(embedding)\n",
    "morph_vocab = MorphVocab()\n",
    "ner_tagger = NewsNERTagger(embedding)"
   ]
  },
  {
   "cell_type": "code",
   "execution_count": 5,
   "id": "vocal-currency",
   "metadata": {},
   "outputs": [],
   "source": [
    "with open(\"../data/corpus_as_dict.json\") as f:\n",
    "    docs = json.load(f)"
   ]
  },
  {
   "cell_type": "markdown",
   "id": "entitled-turner",
   "metadata": {},
   "source": [
    "Создадим датасет с документами"
   ]
  },
  {
   "cell_type": "code",
   "execution_count": 6,
   "id": "regular-chosen",
   "metadata": {},
   "outputs": [],
   "source": [
    "titles = list(docs.keys())\n",
    "texts = list(docs.values())\n",
    "df = pd.DataFrame.from_dict({'title':titles, 'text':texts})"
   ]
  },
  {
   "cell_type": "code",
   "execution_count": 7,
   "id": "universal-ethnic",
   "metadata": {},
   "outputs": [
    {
     "data": {
      "text/html": [
       "<div>\n",
       "<style scoped>\n",
       "    .dataframe tbody tr th:only-of-type {\n",
       "        vertical-align: middle;\n",
       "    }\n",
       "\n",
       "    .dataframe tbody tr th {\n",
       "        vertical-align: top;\n",
       "    }\n",
       "\n",
       "    .dataframe thead th {\n",
       "        text-align: right;\n",
       "    }\n",
       "</style>\n",
       "<table border=\"1\" class=\"dataframe\">\n",
       "  <thead>\n",
       "    <tr style=\"text-align: right;\">\n",
       "      <th></th>\n",
       "      <th>title</th>\n",
       "      <th>text</th>\n",
       "    </tr>\n",
       "  </thead>\n",
       "  <tbody>\n",
       "    <tr>\n",
       "      <th>126</th>\n",
       "      <td>Контрольный номер Библиотеки Конгресса</td>\n",
       "      <td>Контрольный номер Библиотеки Конгресса — контр...</td>\n",
       "    </tr>\n",
       "    <tr>\n",
       "      <th>71</th>\n",
       "      <td>Движитель</td>\n",
       "      <td>Движитель — устройство, преобразующее энергию ...</td>\n",
       "    </tr>\n",
       "    <tr>\n",
       "      <th>99</th>\n",
       "      <td>Интендант</td>\n",
       "      <td>Интендант — во Франции первоначально всякое ли...</td>\n",
       "    </tr>\n",
       "    <tr>\n",
       "      <th>294</th>\n",
       "      <td>Телефон</td>\n",
       "      <td>Телефон — аппарат для передачи и приема звука ...</td>\n",
       "    </tr>\n",
       "    <tr>\n",
       "      <th>20</th>\n",
       "      <td>Белфаст</td>\n",
       "      <td>Белфаст — город в Великобритании, столица Севе...</td>\n",
       "    </tr>\n",
       "  </tbody>\n",
       "</table>\n",
       "</div>"
      ],
      "text/plain": [
       "                                      title  \\\n",
       "126  Контрольный номер Библиотеки Конгресса   \n",
       "71                                Движитель   \n",
       "99                                Интендант   \n",
       "294                                 Телефон   \n",
       "20                                  Белфаст   \n",
       "\n",
       "                                                  text  \n",
       "126  Контрольный номер Библиотеки Конгресса — контр...  \n",
       "71   Движитель — устройство, преобразующее энергию ...  \n",
       "99   Интендант — во Франции первоначально всякое ли...  \n",
       "294  Телефон — аппарат для передачи и приема звука ...  \n",
       "20   Белфаст — город в Великобритании, столица Севе...  "
      ]
     },
     "execution_count": 7,
     "metadata": {},
     "output_type": "execute_result"
    }
   ],
   "source": [
    "df.sample(5)"
   ]
  },
  {
   "cell_type": "code",
   "execution_count": 8,
   "id": "otherwise-justice",
   "metadata": {},
   "outputs": [],
   "source": [
    "def get_ner(transcript):\n",
    "  script = Doc(re.sub(r'\\((.*?)\\)', \"\", transcript))\n",
    "  script.segment(segmenter)\n",
    "  script.tag_morph(morph_tagger)\n",
    "  for token in script.tokens:\n",
    "    token.lemmatize(morph_vocab)\n",
    "  script.tag_ner(ner_tagger)\n",
    "  for span in script.spans:\n",
    "    span.normalize(morph_vocab)\n",
    "  named_ents = [(i.text, i.type, i.normal) for i in script.spans]\n",
    "  normed_ents = []\n",
    "  for word, tag, norm in named_ents:\n",
    "    if len(word.split()) == 1 and tag == \"LOC\":\n",
    "      for gram in range(len(analyzer.parse(word))):\n",
    "        if \"Geox\" in analyzer.parse(word)[gram].tag:\n",
    "          normed_ents.append((analyzer.parse(word)[gram].normal_form))\n",
    "          break\n",
    "        elif gram == len(analyzer.parse(word)) - 1:\n",
    "          normed_ents.append((norm.lower().strip(\".,!?;-\")))\n",
    "    else:\n",
    "      normed_ents.append((norm.lower().strip(\".,!?;-\")))\n",
    "  return sorted(normed_ents)"
   ]
  },
  {
   "cell_type": "markdown",
   "id": "incoming-oxygen",
   "metadata": {},
   "source": [
    "Следующая функция работает таким образом:\n",
    "\n",
    "- текст сегментируется на токены\n",
    "- на токены накладывается частеречная разметка\n",
    "- токены лемматизируются\n",
    "- выделяются именованные сущности\n",
    "- токены нормализуются\n",
    "- обрабатывается нормализация географических объектов, т.к. в процессе выяснилось, что natasha хуже их нормализует, чем pymorphy2."
   ]
  },
  {
   "cell_type": "code",
   "execution_count": 9,
   "id": "sticky-warner",
   "metadata": {},
   "outputs": [],
   "source": [
    "df[\"named_entities\"] = df.apply(lambda row: get_ner(row[\"text\"]), axis=1)"
   ]
  },
  {
   "cell_type": "code",
   "execution_count": 10,
   "id": "forward-olympus",
   "metadata": {},
   "outputs": [
    {
     "data": {
      "text/html": [
       "<div>\n",
       "<style scoped>\n",
       "    .dataframe tbody tr th:only-of-type {\n",
       "        vertical-align: middle;\n",
       "    }\n",
       "\n",
       "    .dataframe tbody tr th {\n",
       "        vertical-align: top;\n",
       "    }\n",
       "\n",
       "    .dataframe thead th {\n",
       "        text-align: right;\n",
       "    }\n",
       "</style>\n",
       "<table border=\"1\" class=\"dataframe\">\n",
       "  <thead>\n",
       "    <tr style=\"text-align: right;\">\n",
       "      <th></th>\n",
       "      <th>title</th>\n",
       "      <th>text</th>\n",
       "      <th>named_entities</th>\n",
       "    </tr>\n",
       "  </thead>\n",
       "  <tbody>\n",
       "    <tr>\n",
       "      <th>280</th>\n",
       "      <td>Спасательная шлюпка</td>\n",
       "      <td>Спасательная шлюпка — корабельная шлюпка, обыч...</td>\n",
       "      <td>[]</td>\n",
       "    </tr>\n",
       "    <tr>\n",
       "      <th>192</th>\n",
       "      <td>Норвегия</td>\n",
       "      <td>Норвегия, официальное название — Королевство Н...</td>\n",
       "      <td>[антарктика, атлантический океан, буве, заморс...</td>\n",
       "    </tr>\n",
       "    <tr>\n",
       "      <th>9</th>\n",
       "      <td>Англиканская церковь</td>\n",
       "      <td>Англиканство — одно из направлений христианств...</td>\n",
       "      <td>[австралия, английская церковь, англиканская ц...</td>\n",
       "    </tr>\n",
       "  </tbody>\n",
       "</table>\n",
       "</div>"
      ],
      "text/plain": [
       "                    title                                               text  \\\n",
       "280   Спасательная шлюпка  Спасательная шлюпка — корабельная шлюпка, обыч...   \n",
       "192              Норвегия  Норвегия, официальное название — Королевство Н...   \n",
       "9    Англиканская церковь  Англиканство — одно из направлений христианств...   \n",
       "\n",
       "                                        named_entities  \n",
       "280                                                 []  \n",
       "192  [антарктика, атлантический океан, буве, заморс...  \n",
       "9    [австралия, английская церковь, англиканская ц...  "
      ]
     },
     "execution_count": 10,
     "metadata": {},
     "output_type": "execute_result"
    }
   ],
   "source": [
    "df.sample(3)"
   ]
  },
  {
   "cell_type": "code",
   "execution_count": 11,
   "id": "catholic-treatment",
   "metadata": {},
   "outputs": [],
   "source": [
    "has_ner = [i for i in df.index.values if df.named_entities[i]]"
   ]
  },
  {
   "cell_type": "code",
   "execution_count": 12,
   "id": "loving-implementation",
   "metadata": {},
   "outputs": [
    {
     "data": {
      "text/plain": [
       "(223, 363)"
      ]
     },
     "execution_count": 12,
     "metadata": {},
     "output_type": "execute_result"
    }
   ],
   "source": [
    "len(has_ner), df.shape[0]"
   ]
  },
  {
   "cell_type": "markdown",
   "id": "liked-trinidad",
   "metadata": {},
   "source": [
    "В 223 документах из 363 есть Именнованные сущности"
   ]
  },
  {
   "cell_type": "code",
   "execution_count": 13,
   "id": "stretch-geneva",
   "metadata": {},
   "outputs": [],
   "source": [
    "df_ner = df[df.index.isin(has_ner)]"
   ]
  },
  {
   "cell_type": "markdown",
   "id": "enormous-alliance",
   "metadata": {},
   "source": [
    "Будем работать именно с теми документами, где они есть"
   ]
  },
  {
   "cell_type": "code",
   "execution_count": 14,
   "id": "sized-genesis",
   "metadata": {},
   "outputs": [],
   "source": [
    "from sklearn.feature_extraction.text import CountVectorizer\n",
    "from sklearn.feature_extraction.text import TfidfTransformer\n",
    "from sklearn.pipeline import Pipeline\n",
    "from sklearn import metrics\n",
    "from sklearn.cluster import KMeans"
   ]
  },
  {
   "cell_type": "code",
   "execution_count": 15,
   "id": "operating-station",
   "metadata": {},
   "outputs": [
    {
     "data": {
      "text/plain": [
       "(1758, 955)"
      ]
     },
     "execution_count": 15,
     "metadata": {},
     "output_type": "execute_result"
    }
   ],
   "source": [
    "ner_voc = []\n",
    "for row in df_ner.named_entities.tolist():\n",
    "  ner_voc.extend(row)\n",
    "len(ner_voc), len(set(ner_voc))"
   ]
  },
  {
   "cell_type": "markdown",
   "id": "cathedral-punch",
   "metadata": {},
   "source": [
    "Всего в корпусе 1758 сущностей, уникальных 955"
   ]
  },
  {
   "cell_type": "code",
   "execution_count": 16,
   "id": "assigned-certification",
   "metadata": {},
   "outputs": [],
   "source": [
    "vocabulary = sorted(set(ner_voc))\n",
    "corpus = df_ner.named_entities.apply(str).tolist()"
   ]
  },
  {
   "cell_type": "code",
   "execution_count": 17,
   "id": "republican-buffer",
   "metadata": {},
   "outputs": [],
   "source": [
    "pipe = Pipeline([('count', CountVectorizer(vocabulary=vocabulary)),\n",
    "                 ('tfid', TfidfTransformer())]).fit(corpus)\n",
    "X = pipe.fit_transform(corpus)\n",
    "km = KMeans(n_clusters=18, init='k-means++', max_iter=600, \n",
    "            algorithm=\"full\", precompute_distances=True)"
   ]
  },
  {
   "cell_type": "code",
   "execution_count": 18,
   "id": "public-sheep",
   "metadata": {},
   "outputs": [
    {
     "name": "stderr",
     "output_type": "stream",
     "text": [
      "/home/alexanderlakiza/.virtualenvs/cs224/lib/python3.8/site-packages/sklearn/cluster/_kmeans.py:786: FutureWarning: 'precompute_distances' was deprecated in version 0.23 and will be removed in 1.0 (renaming of 0.25). It has no effect\n",
      "  warnings.warn(\"'precompute_distances' was deprecated in version \"\n"
     ]
    },
    {
     "data": {
      "text/plain": [
       "KMeans(algorithm='full', max_iter=600, n_clusters=18, precompute_distances=True)"
      ]
     },
     "execution_count": 18,
     "metadata": {},
     "output_type": "execute_result"
    }
   ],
   "source": [
    "km.fit(X)"
   ]
  },
  {
   "cell_type": "markdown",
   "id": "offensive-slave",
   "metadata": {},
   "source": [
    "Есть два вида метрик оценки качества кластеризации:\n",
    "\n",
    "внешние - используют дополнительные знания о кластерах (распределение по кластерам, количество кластеров)\n",
    "внутренние - оценивают качество полученной структуры, не используя внешнюю информацию\n",
    "Т.к. у нас нет никаких дополнительных знаний (но для меньшего объема данных их можно получить экспертно при необходимости), посмотрим на внутренние метрики. В sklearn есть следующие:"
   ]
  },
  {
   "cell_type": "code",
   "execution_count": 19,
   "id": "tired-cholesterol",
   "metadata": {},
   "outputs": [
    {
     "name": "stdout",
     "output_type": "stream",
     "text": [
      "0.10245716239549112\n",
      "1.4617191188377825\n"
     ]
    }
   ],
   "source": [
    "print(metrics.silhouette_score(X, km.labels_, sample_size=1000))\n",
    "print(metrics.davies_bouldin_score(X.toarray(), km.labels_))"
   ]
  },
  {
   "cell_type": "markdown",
   "id": "weird-compression",
   "metadata": {},
   "source": [
    "силуэт: показывает, насколько объект похож на свой кластер относительно других кластеров; если значение стремится к 1 - хорошее разбиение, если к -1 - плохое, если в районе 0 - кластеры пересекаются\n",
    "индекс Дэвиcа-Болдуина: оценивает расстояние от объекта кластера до центроида и расстояние между центроидами; чем ниже, тем лучше разбиение"
   ]
  },
  {
   "cell_type": "markdown",
   "id": "rough-utilization",
   "metadata": {},
   "source": [
    "Оценка первого параметра при разном кол-ве кластеров колеблется от 0.7 до 1, что не очень хорошо  \n",
    "А вот второй параметр уменьшается по мере увеличения количества кластеров, и имеет довольно неплохой результат"
   ]
  },
  {
   "cell_type": "code",
   "execution_count": 20,
   "id": "actual-artist",
   "metadata": {},
   "outputs": [
    {
     "name": "stderr",
     "output_type": "stream",
     "text": [
      "<ipython-input-20-20dc8af91091>:1: SettingWithCopyWarning: \n",
      "A value is trying to be set on a copy of a slice from a DataFrame.\n",
      "Try using .loc[row_indexer,col_indexer] = value instead\n",
      "\n",
      "See the caveats in the documentation: https://pandas.pydata.org/pandas-docs/stable/user_guide/indexing.html#returning-a-view-versus-a-copy\n",
      "  df_ner[\"label\"] = km.predict(X)\n"
     ]
    }
   ],
   "source": [
    "df_ner[\"label\"] = km.predict(X)"
   ]
  },
  {
   "cell_type": "code",
   "execution_count": 21,
   "id": "designing-acquisition",
   "metadata": {},
   "outputs": [
    {
     "data": {
      "text/plain": [
       "2     167\n",
       "9      10\n",
       "4       8\n",
       "8       5\n",
       "10      4\n",
       "3       4\n",
       "13      4\n",
       "15      3\n",
       "11      3\n",
       "17      3\n",
       "7       2\n",
       "12      2\n",
       "14      2\n",
       "16      2\n",
       "1       1\n",
       "6       1\n",
       "5       1\n",
       "0       1\n",
       "Name: label, dtype: int64"
      ]
     },
     "execution_count": 21,
     "metadata": {},
     "output_type": "execute_result"
    }
   ],
   "source": [
    "df_ner[\"label\"].value_counts()"
   ]
  },
  {
   "cell_type": "code",
   "execution_count": 26,
   "id": "breeding-hampton",
   "metadata": {},
   "outputs": [
    {
     "data": {
      "text/html": [
       "<div>\n",
       "<style scoped>\n",
       "    .dataframe tbody tr th:only-of-type {\n",
       "        vertical-align: middle;\n",
       "    }\n",
       "\n",
       "    .dataframe tbody tr th {\n",
       "        vertical-align: top;\n",
       "    }\n",
       "\n",
       "    .dataframe thead th {\n",
       "        text-align: right;\n",
       "    }\n",
       "</style>\n",
       "<table border=\"1\" class=\"dataframe\">\n",
       "  <thead>\n",
       "    <tr style=\"text-align: right;\">\n",
       "      <th></th>\n",
       "      <th>title</th>\n",
       "      <th>text</th>\n",
       "      <th>named_entities</th>\n",
       "      <th>label</th>\n",
       "    </tr>\n",
       "  </thead>\n",
       "  <tbody>\n",
       "    <tr>\n",
       "      <th>15</th>\n",
       "      <td>Атм</td>\n",
       "      <td>Атмосфера — внесистемная единица измерения дав...</td>\n",
       "      <td>[земля, международная организация законодатель...</td>\n",
       "      <td>4</td>\n",
       "    </tr>\n",
       "    <tr>\n",
       "      <th>51</th>\n",
       "      <td>Водород</td>\n",
       "      <td>Водород — химический элемент периодической сис...</td>\n",
       "      <td>[земля]</td>\n",
       "      <td>4</td>\n",
       "    </tr>\n",
       "    <tr>\n",
       "      <th>93</th>\n",
       "      <td>Земля</td>\n",
       "      <td>Земля — третья по удаленности от Солнца планет...</td>\n",
       "      <td>[арктика, венера, земля, земля, земля, земля, ...</td>\n",
       "      <td>4</td>\n",
       "    </tr>\n",
       "    <tr>\n",
       "      <th>124</th>\n",
       "      <td>Компас</td>\n",
       "      <td>Компас; на профессиональном жаргоне моряков — ...</td>\n",
       "      <td>[земля]</td>\n",
       "      <td>4</td>\n",
       "    </tr>\n",
       "    <tr>\n",
       "      <th>150</th>\n",
       "      <td>Луна</td>\n",
       "      <td>Луна — единственный естественный спутник Земли...</td>\n",
       "      <td>[земля, земля, земля, земля, земля, луна, луна...</td>\n",
       "      <td>4</td>\n",
       "    </tr>\n",
       "    <tr>\n",
       "      <th>152</th>\n",
       "      <td>Магнитная девиация</td>\n",
       "      <td>Магнитная девиация или магнитное отклонение — ...</td>\n",
       "      <td>[земля]</td>\n",
       "      <td>4</td>\n",
       "    </tr>\n",
       "    <tr>\n",
       "      <th>316</th>\n",
       "      <td>Углекислый газ</td>\n",
       "      <td>Диоксид углерода или двуокись углерода — бесцв...</td>\n",
       "      <td>[земля, земля, земля, земля, земля, земля, сол...</td>\n",
       "      <td>4</td>\n",
       "    </tr>\n",
       "    <tr>\n",
       "      <th>331</th>\n",
       "      <td>Человек</td>\n",
       "      <td>Человек — общественное существо, обладающее ра...</td>\n",
       "      <td>[в. г. борзенков, земля, и. т. фролов]</td>\n",
       "      <td>4</td>\n",
       "    </tr>\n",
       "  </tbody>\n",
       "</table>\n",
       "</div>"
      ],
      "text/plain": [
       "                  title                                               text  \\\n",
       "15                  Атм  Атмосфера — внесистемная единица измерения дав...   \n",
       "51              Водород  Водород — химический элемент периодической сис...   \n",
       "93                Земля  Земля — третья по удаленности от Солнца планет...   \n",
       "124              Компас  Компас; на профессиональном жаргоне моряков — ...   \n",
       "150                Луна  Луна — единственный естественный спутник Земли...   \n",
       "152  Магнитная девиация  Магнитная девиация или магнитное отклонение — ...   \n",
       "316      Углекислый газ  Диоксид углерода или двуокись углерода — бесцв...   \n",
       "331             Человек  Человек — общественное существо, обладающее ра...   \n",
       "\n",
       "                                        named_entities  label  \n",
       "15   [земля, международная организация законодатель...      4  \n",
       "51                                             [земля]      4  \n",
       "93   [арктика, венера, земля, земля, земля, земля, ...      4  \n",
       "124                                            [земля]      4  \n",
       "150  [земля, земля, земля, земля, земля, луна, луна...      4  \n",
       "152                                            [земля]      4  \n",
       "316  [земля, земля, земля, земля, земля, земля, сол...      4  \n",
       "331             [в. г. борзенков, земля, и. т. фролов]      4  "
      ]
     },
     "execution_count": 26,
     "metadata": {},
     "output_type": "execute_result"
    }
   ],
   "source": [
    "df_ner.query(\"label == 4\")"
   ]
  },
  {
   "cell_type": "code",
   "execution_count": 29,
   "id": "available-proxy",
   "metadata": {},
   "outputs": [
    {
     "data": {
      "text/html": [
       "<div>\n",
       "<style scoped>\n",
       "    .dataframe tbody tr th:only-of-type {\n",
       "        vertical-align: middle;\n",
       "    }\n",
       "\n",
       "    .dataframe tbody tr th {\n",
       "        vertical-align: top;\n",
       "    }\n",
       "\n",
       "    .dataframe thead th {\n",
       "        text-align: right;\n",
       "    }\n",
       "</style>\n",
       "<table border=\"1\" class=\"dataframe\">\n",
       "  <thead>\n",
       "    <tr style=\"text-align: right;\">\n",
       "      <th></th>\n",
       "      <th>title</th>\n",
       "      <th>text</th>\n",
       "      <th>named_entities</th>\n",
       "      <th>label</th>\n",
       "    </tr>\n",
       "  </thead>\n",
       "  <tbody>\n",
       "    <tr>\n",
       "      <th>148</th>\n",
       "      <td>Лошадиная сила</td>\n",
       "      <td>Лошадиная сила — внесистемная единица мощности...</td>\n",
       "      <td>[англия, международная система, россия, россия...</td>\n",
       "      <td>13</td>\n",
       "    </tr>\n",
       "    <tr>\n",
       "      <th>168</th>\n",
       "      <td>Моллюск</td>\n",
       "      <td>Моллюски, или мягкотелые, — тип первичноротых ...</td>\n",
       "      <td>[россия]</td>\n",
       "      <td>13</td>\n",
       "    </tr>\n",
       "    <tr>\n",
       "      <th>252</th>\n",
       "      <td>Рыбы</td>\n",
       "      <td>Рыбы — парафилетическая группа водных позвоноч...</td>\n",
       "      <td>[россия]</td>\n",
       "      <td>13</td>\n",
       "    </tr>\n",
       "    <tr>\n",
       "      <th>256</th>\n",
       "      <td>Санкт-Петербург</td>\n",
       "      <td>Санкт-Петербург — второй по численности населе...</td>\n",
       "      <td>[военно-морской флот, вооруженные силы, гераль...</td>\n",
       "      <td>13</td>\n",
       "    </tr>\n",
       "  </tbody>\n",
       "</table>\n",
       "</div>"
      ],
      "text/plain": [
       "               title                                               text  \\\n",
       "148   Лошадиная сила  Лошадиная сила — внесистемная единица мощности...   \n",
       "168          Моллюск  Моллюски, или мягкотелые, — тип первичноротых ...   \n",
       "252             Рыбы  Рыбы — парафилетическая группа водных позвоноч...   \n",
       "256  Санкт-Петербург  Санкт-Петербург — второй по численности населе...   \n",
       "\n",
       "                                        named_entities  label  \n",
       "148  [англия, международная система, россия, россия...     13  \n",
       "168                                           [россия]     13  \n",
       "252                                           [россия]     13  \n",
       "256  [военно-морской флот, вооруженные силы, гераль...     13  "
      ]
     },
     "execution_count": 29,
     "metadata": {},
     "output_type": "execute_result"
    }
   ],
   "source": [
    "df_ner.query(\"label == 13\")"
   ]
  },
  {
   "cell_type": "code",
   "execution_count": 33,
   "id": "alert-beaver",
   "metadata": {},
   "outputs": [
    {
     "data": {
      "text/html": [
       "<div>\n",
       "<style scoped>\n",
       "    .dataframe tbody tr th:only-of-type {\n",
       "        vertical-align: middle;\n",
       "    }\n",
       "\n",
       "    .dataframe tbody tr th {\n",
       "        vertical-align: top;\n",
       "    }\n",
       "\n",
       "    .dataframe thead th {\n",
       "        text-align: right;\n",
       "    }\n",
       "</style>\n",
       "<table border=\"1\" class=\"dataframe\">\n",
       "  <thead>\n",
       "    <tr style=\"text-align: right;\">\n",
       "      <th></th>\n",
       "      <th>title</th>\n",
       "      <th>text</th>\n",
       "      <th>named_entities</th>\n",
       "      <th>label</th>\n",
       "    </tr>\n",
       "  </thead>\n",
       "  <tbody>\n",
       "    <tr>\n",
       "      <th>135</th>\n",
       "      <td>Лаган</td>\n",
       "      <td>Лаган — река в Северной Ирландии. Берет начало...</td>\n",
       "      <td>[антрим, белфаст, белфаст, даун, ирландское мо...</td>\n",
       "      <td>6</td>\n",
       "    </tr>\n",
       "    <tr>\n",
       "      <th>240</th>\n",
       "      <td>Ренессанс</td>\n",
       "      <td>Возрождение, или Ренессанс — имеющая мировое з...</td>\n",
       "      <td>[джорджо вазари, европа, жюль мишле, италия, р...</td>\n",
       "      <td>1</td>\n",
       "    </tr>\n",
       "    <tr>\n",
       "      <th>245</th>\n",
       "      <td>Роберт Баллард</td>\n",
       "      <td>Роберт Дуэйн Баллард — американский исследоват...</td>\n",
       "      <td>[nautilus, uss yorktown, вмс, джон кеннеди, ро...</td>\n",
       "      <td>0</td>\n",
       "    </tr>\n",
       "    <tr>\n",
       "      <th>315</th>\n",
       "      <td>Убийство Джона Кеннеди</td>\n",
       "      <td>Убийство 35-го президента США Джона Кеннеди бы...</td>\n",
       "      <td>[верховный суд, даллас, джон кеннеди, джон кен...</td>\n",
       "      <td>5</td>\n",
       "    </tr>\n",
       "  </tbody>\n",
       "</table>\n",
       "</div>"
      ],
      "text/plain": [
       "                      title  \\\n",
       "135                   Лаган   \n",
       "240               Ренессанс   \n",
       "245          Роберт Баллард   \n",
       "315  Убийство Джона Кеннеди   \n",
       "\n",
       "                                                  text  \\\n",
       "135  Лаган — река в Северной Ирландии. Берет начало...   \n",
       "240  Возрождение, или Ренессанс — имеющая мировое з...   \n",
       "245  Роберт Дуэйн Баллард — американский исследоват...   \n",
       "315  Убийство 35-го президента США Джона Кеннеди бы...   \n",
       "\n",
       "                                        named_entities  label  \n",
       "135  [антрим, белфаст, белфаст, даун, ирландское мо...      6  \n",
       "240  [джорджо вазари, европа, жюль мишле, италия, р...      1  \n",
       "245  [nautilus, uss yorktown, вмс, джон кеннеди, ро...      0  \n",
       "315  [верховный суд, даллас, джон кеннеди, джон кен...      5  "
      ]
     },
     "execution_count": 33,
     "metadata": {},
     "output_type": "execute_result"
    }
   ],
   "source": [
    "df_ner.query(\"label==1|label==0|label==5|label==6\")"
   ]
  },
  {
   "cell_type": "code",
   "execution_count": 24,
   "id": "proud-peeing",
   "metadata": {},
   "outputs": [
    {
     "data": {
      "text/html": [
       "<div>\n",
       "<style scoped>\n",
       "    .dataframe tbody tr th:only-of-type {\n",
       "        vertical-align: middle;\n",
       "    }\n",
       "\n",
       "    .dataframe tbody tr th {\n",
       "        vertical-align: top;\n",
       "    }\n",
       "\n",
       "    .dataframe thead th {\n",
       "        text-align: right;\n",
       "    }\n",
       "</style>\n",
       "<table border=\"1\" class=\"dataframe\">\n",
       "  <thead>\n",
       "    <tr style=\"text-align: right;\">\n",
       "      <th></th>\n",
       "      <th>title</th>\n",
       "      <th>text</th>\n",
       "      <th>named_entities</th>\n",
       "      <th>label</th>\n",
       "    </tr>\n",
       "  </thead>\n",
       "  <tbody>\n",
       "    <tr>\n",
       "      <th>136</th>\n",
       "      <td>Лас-Вегас</td>\n",
       "      <td>Лас-Вегас — город на западе США, в штате Невад...</td>\n",
       "      <td>[даунтаун, кларк, лас-вегас, лас-вегас, лас-ве...</td>\n",
       "      <td>12</td>\n",
       "    </tr>\n",
       "    <tr>\n",
       "      <th>149</th>\n",
       "      <td>Луксор Лас-Вегас</td>\n",
       "      <td>«Луксор Лас-Вегас» — гостиница и казино, распо...</td>\n",
       "      <td>[кларк, лас-вегас-стрип, луксор лас-вегас, нев...</td>\n",
       "      <td>12</td>\n",
       "    </tr>\n",
       "  </tbody>\n",
       "</table>\n",
       "</div>"
      ],
      "text/plain": [
       "                title                                               text  \\\n",
       "136         Лас-Вегас  Лас-Вегас — город на западе США, в штате Невад...   \n",
       "149  Луксор Лас-Вегас  «Луксор Лас-Вегас» — гостиница и казино, распо...   \n",
       "\n",
       "                                        named_entities  label  \n",
       "136  [даунтаун, кларк, лас-вегас, лас-вегас, лас-ве...     12  \n",
       "149  [кларк, лас-вегас-стрип, луксор лас-вегас, нев...     12  "
      ]
     },
     "execution_count": 24,
     "metadata": {},
     "output_type": "execute_result"
    }
   ],
   "source": [
    "df_ner.query(\"label == 12\")"
   ]
  },
  {
   "cell_type": "code",
   "execution_count": 25,
   "id": "corrected-adjustment",
   "metadata": {},
   "outputs": [
    {
     "name": "stdout",
     "output_type": "stream",
     "text": [
      "Cluster 0: сша nautilus вмс японское море ж. б. ламарком заморская территория залив белфаст зал слава закавказье жюль мишле\n",
      "Cluster 1: ренессанс италия европа японское море ж. б. ламарком заморская территория залив белфаст зал слава закавказье жюль мишле\n",
      "Cluster 2: канада великобритания англия атлантика северная франция атлантический сша европа россия\n",
      "Cluster 3: франция париж сена республика ришелье европа нато паризии сите версаль\n",
      "Cluster 4: земля луна российская солнце марс тейи венера арктика меркурий жан кальвин\n",
      "Cluster 5: уоррен сша даллас жаклин ли ехидну залив белфаст зал слава закавказье жюль мишле\n",
      "Cluster 6: лисберн лаган белфаст антрим даун ирландия северная закавказье женева жоау фернандеша лэврадур\n",
      "Cluster 7: конгресс сша японское море ехидну заморская территория залив белфаст зал слава закавказье жюль мишле жюль ардуэн-мансар\n",
      "Cluster 8: сша америка штат бифштекс британия bloomberg swift россия северная центральная\n",
      "Cluster 9: великобритания ирландия лондон англия северная шотландия уэльс георг уайтхолл европа\n",
      "Cluster 10: америка гренландия индия северная земля атлантический южная австралия европа исландия\n",
      "Cluster 11: испания мадрид европа африка португалия андорра марокко канарские гибралтар нато\n",
      "Cluster 12: стрип невад кларк сша парадайз даунтаун мохаве японское море жоау фернандеша лэврадур жан кальвин\n",
      "Cluster 13: россия российская англия сша эстония ленинград нева снг кронштадт эрмитаж\n",
      "Cluster 14: морзе вейля вейлем японское море ж. б. ламарком заморская территория залив белфаст зал слава закавказье жюль мишле\n",
      "Cluster 15: европа париж шотландия азия океания зевсом евразия африка атлантический земля\n",
      "Cluster 16: пасленовые паслен японское море ж. б. ламарком залив белфаст зал слава закавказье жюль мишле жюль ардуэн-мансар жоау фернандеша лэврадур\n",
      "Cluster 17: уайт исмей олимпик титаник кунард белфаст шербур австралия жаклин жан кальвин\n"
     ]
    }
   ],
   "source": [
    "order_centroids = km.cluster_centers_.argsort()[:, ::-1]\n",
    "terms = pipe[0].get_feature_names()\n",
    "for i in range(18):\n",
    "  print(\"Cluster %d:\" % i, end='')\n",
    "  for ind in order_centroids[i, :10]:\n",
    "    print(' %s' % terms[ind], end='')\n",
    "  print()"
   ]
  },
  {
   "cell_type": "markdown",
   "id": "conditional-angle",
   "metadata": {},
   "source": [
    "### Вывод\n",
    "В общем и целом, разбиение на кластеры выглядит успешным, так как примерно прослеживается тематика почти каждого кластера"
   ]
  },
  {
   "cell_type": "code",
   "execution_count": null,
   "id": "protected-collapse",
   "metadata": {},
   "outputs": [],
   "source": []
  }
 ],
 "metadata": {
  "kernelspec": {
   "display_name": "cs224",
   "language": "python",
   "name": "cs224"
  },
  "language_info": {
   "codemirror_mode": {
    "name": "ipython",
    "version": 3
   },
   "file_extension": ".py",
   "mimetype": "text/x-python",
   "name": "python",
   "nbconvert_exporter": "python",
   "pygments_lexer": "ipython3",
   "version": "3.8.5"
  }
 },
 "nbformat": 4,
 "nbformat_minor": 5
}
