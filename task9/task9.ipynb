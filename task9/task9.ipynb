{
 "cells": [
  {
   "cell_type": "code",
   "execution_count": 26,
   "id": "reliable-norfolk",
   "metadata": {},
   "outputs": [],
   "source": [
    "from natasha import NewsNERTagger\n",
    "from natasha import MorphVocab, NewsEmbedding, NewsMorphTagger\n",
    "from natasha import Doc, Segmenter\n",
    "import json\n",
    "import pandas as pd\n",
    "import re"
   ]
  },
  {
   "cell_type": "code",
   "execution_count": 27,
   "id": "extra-broadway",
   "metadata": {},
   "outputs": [],
   "source": [
    "import pymorphy2\n",
    "analyzer = pymorphy2.MorphAnalyzer()"
   ]
  },
  {
   "cell_type": "code",
   "execution_count": 28,
   "id": "failing-package",
   "metadata": {},
   "outputs": [],
   "source": [
    "embedding = NewsEmbedding()\n",
    "segmenter = Segmenter()"
   ]
  },
  {
   "cell_type": "code",
   "execution_count": 29,
   "id": "genetic-colors",
   "metadata": {},
   "outputs": [],
   "source": [
    "morph_tagger = NewsMorphTagger(embedding)\n",
    "morph_vocab = MorphVocab()\n",
    "ner_tagger = NewsNERTagger(embedding)"
   ]
  },
  {
   "cell_type": "code",
   "execution_count": 30,
   "id": "secret-office",
   "metadata": {},
   "outputs": [],
   "source": [
    "with open(\"../data/corpus_as_dict.json\") as f:\n",
    "    docs = json.load(f)"
   ]
  },
  {
   "cell_type": "markdown",
   "id": "exterior-welsh",
   "metadata": {},
   "source": [
    "Создадим датасет с документами"
   ]
  },
  {
   "cell_type": "code",
   "execution_count": 31,
   "id": "surrounded-syndication",
   "metadata": {},
   "outputs": [],
   "source": [
    "titles = list(docs.keys())\n",
    "texts = list(docs.values())\n",
    "df = pd.DataFrame.from_dict({'title':titles, 'text':texts})"
   ]
  },
  {
   "cell_type": "code",
   "execution_count": 32,
   "id": "flying-christian",
   "metadata": {},
   "outputs": [
    {
     "data": {
      "text/html": [
       "<div>\n",
       "<style scoped>\n",
       "    .dataframe tbody tr th:only-of-type {\n",
       "        vertical-align: middle;\n",
       "    }\n",
       "\n",
       "    .dataframe tbody tr th {\n",
       "        vertical-align: top;\n",
       "    }\n",
       "\n",
       "    .dataframe thead th {\n",
       "        text-align: right;\n",
       "    }\n",
       "</style>\n",
       "<table border=\"1\" class=\"dataframe\">\n",
       "  <thead>\n",
       "    <tr style=\"text-align: right;\">\n",
       "      <th></th>\n",
       "      <th>title</th>\n",
       "      <th>text</th>\n",
       "    </tr>\n",
       "  </thead>\n",
       "  <tbody>\n",
       "    <tr>\n",
       "      <th>288</th>\n",
       "      <td>Сыр</td>\n",
       "      <td>Сыр — пищевой продукт, получаемый из сыроприго...</td>\n",
       "    </tr>\n",
       "    <tr>\n",
       "      <th>166</th>\n",
       "      <td>Мини-гольф</td>\n",
       "      <td>Мини-гольф — миниатюрная версия гольфа, спорти...</td>\n",
       "    </tr>\n",
       "    <tr>\n",
       "      <th>205</th>\n",
       "      <td>Париж</td>\n",
       "      <td>Париж — столица и крупнейший город Франции, а ...</td>\n",
       "    </tr>\n",
       "    <tr>\n",
       "      <th>319</th>\n",
       "      <td>Фильм-катастрофа</td>\n",
       "      <td>Фильм-катастрофа или фильм катастроф — фильм, ...</td>\n",
       "    </tr>\n",
       "    <tr>\n",
       "      <th>182</th>\n",
       "      <td>Нактоуз</td>\n",
       "      <td>Нактоуз — ящик, в котором расположен судовой к...</td>\n",
       "    </tr>\n",
       "  </tbody>\n",
       "</table>\n",
       "</div>"
      ],
      "text/plain": [
       "                title                                               text\n",
       "288               Сыр  Сыр — пищевой продукт, получаемый из сыроприго...\n",
       "166        Мини-гольф  Мини-гольф — миниатюрная версия гольфа, спорти...\n",
       "205             Париж  Париж — столица и крупнейший город Франции, а ...\n",
       "319  Фильм-катастрофа  Фильм-катастрофа или фильм катастроф — фильм, ...\n",
       "182           Нактоуз  Нактоуз — ящик, в котором расположен судовой к..."
      ]
     },
     "execution_count": 32,
     "metadata": {},
     "output_type": "execute_result"
    }
   ],
   "source": [
    "df.sample(5)"
   ]
  },
  {
   "cell_type": "code",
   "execution_count": 33,
   "id": "twenty-measurement",
   "metadata": {},
   "outputs": [],
   "source": [
    "def get_ner(transcript):\n",
    "  script = Doc(re.sub(r'\\((.*?)\\)', \"\", transcript))\n",
    "  script.segment(segmenter)\n",
    "  script.tag_morph(morph_tagger)\n",
    "  for token in script.tokens:\n",
    "    token.lemmatize(morph_vocab)\n",
    "  script.tag_ner(ner_tagger)\n",
    "  for span in script.spans:\n",
    "    span.normalize(morph_vocab)\n",
    "  named_ents = [(i.text, i.type, i.normal) for i in script.spans]\n",
    "  normed_ents = []\n",
    "  for word, tag, norm in named_ents:\n",
    "    if len(word.split()) == 1 and tag == \"LOC\":\n",
    "      for gram in range(len(analyzer.parse(word))):\n",
    "        if \"Geox\" in analyzer.parse(word)[gram].tag:\n",
    "          normed_ents.append((analyzer.parse(word)[gram].normal_form))\n",
    "          break\n",
    "        elif gram == len(analyzer.parse(word)) - 1:\n",
    "          normed_ents.append((norm.lower().strip(\".,!?;-\")))\n",
    "    else:\n",
    "      normed_ents.append((norm.lower().strip(\".,!?;-\")))\n",
    "  return sorted(normed_ents)"
   ]
  },
  {
   "cell_type": "markdown",
   "id": "opposed-capacity",
   "metadata": {},
   "source": [
    "Следующая функция работает таким образом:\n",
    "\n",
    "- текст сегментируется на токены\n",
    "- на токены накладывается частеречная разметка\n",
    "- токены лемматизируются\n",
    "- выделяются именованные сущности\n",
    "- токены нормализуются\n",
    "- обрабатывается нормализация географических объектов, т.к. в процессе выяснилось, что natasha хуже их нормализует, чем pymorphy2."
   ]
  },
  {
   "cell_type": "code",
   "execution_count": 34,
   "id": "dirty-honey",
   "metadata": {},
   "outputs": [],
   "source": [
    "df[\"named_entities\"] = df.apply(lambda row: get_ner(row[\"text\"]), axis=1)"
   ]
  },
  {
   "cell_type": "code",
   "execution_count": 35,
   "id": "found-silver",
   "metadata": {},
   "outputs": [
    {
     "data": {
      "text/html": [
       "<div>\n",
       "<style scoped>\n",
       "    .dataframe tbody tr th:only-of-type {\n",
       "        vertical-align: middle;\n",
       "    }\n",
       "\n",
       "    .dataframe tbody tr th {\n",
       "        vertical-align: top;\n",
       "    }\n",
       "\n",
       "    .dataframe thead th {\n",
       "        text-align: right;\n",
       "    }\n",
       "</style>\n",
       "<table border=\"1\" class=\"dataframe\">\n",
       "  <thead>\n",
       "    <tr style=\"text-align: right;\">\n",
       "      <th></th>\n",
       "      <th>title</th>\n",
       "      <th>text</th>\n",
       "      <th>named_entities</th>\n",
       "    </tr>\n",
       "  </thead>\n",
       "  <tbody>\n",
       "    <tr>\n",
       "      <th>246</th>\n",
       "      <td>Российская империя</td>\n",
       "      <td>Российская империя — государство, существовавш...</td>\n",
       "      <td>[анна иоанновна, балтийское море, верховный та...</td>\n",
       "    </tr>\n",
       "    <tr>\n",
       "      <th>186</th>\n",
       "      <td>Национальная библиотека Франции</td>\n",
       "      <td>Национальная библиотека Франции — библиотека в...</td>\n",
       "      <td>[европа, национальная библиотека, париж, париж...</td>\n",
       "    </tr>\n",
       "    <tr>\n",
       "      <th>20</th>\n",
       "      <td>Белфаст</td>\n",
       "      <td>Белфаст — город в Великобритании, столица Севе...</td>\n",
       "      <td>[белфаст, белфаст, белфаст, великобритания, ду...</td>\n",
       "    </tr>\n",
       "  </tbody>\n",
       "</table>\n",
       "</div>"
      ],
      "text/plain": [
       "                               title  \\\n",
       "246               Российская империя   \n",
       "186  Национальная библиотека Франции   \n",
       "20                           Белфаст   \n",
       "\n",
       "                                                  text  \\\n",
       "246  Российская империя — государство, существовавш...   \n",
       "186  Национальная библиотека Франции — библиотека в...   \n",
       "20   Белфаст — город в Великобритании, столица Севе...   \n",
       "\n",
       "                                        named_entities  \n",
       "246  [анна иоанновна, балтийское море, верховный та...  \n",
       "186  [европа, национальная библиотека, париж, париж...  \n",
       "20   [белфаст, белфаст, белфаст, великобритания, ду...  "
      ]
     },
     "execution_count": 35,
     "metadata": {},
     "output_type": "execute_result"
    }
   ],
   "source": [
    "df.sample(3)"
   ]
  },
  {
   "cell_type": "code",
   "execution_count": 36,
   "id": "laden-victoria",
   "metadata": {},
   "outputs": [],
   "source": [
    "has_ner = [i for i in df.index.values if df.named_entities[i]]"
   ]
  },
  {
   "cell_type": "code",
   "execution_count": 37,
   "id": "dominican-saying",
   "metadata": {},
   "outputs": [
    {
     "data": {
      "text/plain": [
       "(223, 363)"
      ]
     },
     "execution_count": 37,
     "metadata": {},
     "output_type": "execute_result"
    }
   ],
   "source": [
    "len(has_ner), df.shape[0]"
   ]
  },
  {
   "cell_type": "markdown",
   "id": "suspended-reggae",
   "metadata": {},
   "source": [
    "В 223 документах из 363 есть Именнованные сущности"
   ]
  },
  {
   "cell_type": "code",
   "execution_count": 38,
   "id": "disciplinary-drama",
   "metadata": {},
   "outputs": [],
   "source": [
    "df_ner = df[df.index.isin(has_ner)]"
   ]
  },
  {
   "cell_type": "markdown",
   "id": "induced-halloween",
   "metadata": {},
   "source": [
    "Будем работать именно с теми документами, где они есть"
   ]
  },
  {
   "cell_type": "code",
   "execution_count": 39,
   "id": "electronic-zealand",
   "metadata": {},
   "outputs": [],
   "source": [
    "from sklearn.feature_extraction.text import CountVectorizer\n",
    "from sklearn.feature_extraction.text import TfidfTransformer\n",
    "from sklearn.pipeline import Pipeline\n",
    "from sklearn import metrics\n",
    "from sklearn.cluster import KMeans"
   ]
  },
  {
   "cell_type": "code",
   "execution_count": 40,
   "id": "thick-victory",
   "metadata": {},
   "outputs": [
    {
     "data": {
      "text/plain": [
       "(1758, 955)"
      ]
     },
     "execution_count": 40,
     "metadata": {},
     "output_type": "execute_result"
    }
   ],
   "source": [
    "ner_voc = []\n",
    "for row in df_ner.named_entities.tolist():\n",
    "  ner_voc.extend(row)\n",
    "len(ner_voc), len(set(ner_voc))"
   ]
  },
  {
   "cell_type": "markdown",
   "id": "premium-fisher",
   "metadata": {},
   "source": [
    "Всего в корпусе 1758 сущностей, уникальных 955"
   ]
  },
  {
   "cell_type": "code",
   "execution_count": 41,
   "id": "sized-preview",
   "metadata": {},
   "outputs": [],
   "source": [
    "vocabulary = sorted(set(ner_voc))\n",
    "corpus = df_ner.named_entities.apply(str).tolist()"
   ]
  },
  {
   "cell_type": "code",
   "execution_count": 55,
   "id": "legal-lottery",
   "metadata": {},
   "outputs": [],
   "source": [
    "pipe = Pipeline([('count', CountVectorizer(vocabulary=vocabulary)),\n",
    "                 ('tfid', TfidfTransformer())]).fit(corpus)\n",
    "X = pipe.fit_transform(corpus)\n",
    "km = KMeans(n_clusters=18, init='k-means++', max_iter=600, \n",
    "            algorithm=\"full\", precompute_distances=True)"
   ]
  },
  {
   "cell_type": "code",
   "execution_count": 56,
   "id": "blessed-procedure",
   "metadata": {},
   "outputs": [
    {
     "name": "stderr",
     "output_type": "stream",
     "text": [
      "/home/alexanderlakiza/.virtualenvs/cs224/lib/python3.8/site-packages/sklearn/cluster/_kmeans.py:786: FutureWarning: 'precompute_distances' was deprecated in version 0.23 and will be removed in 1.0 (renaming of 0.25). It has no effect\n",
      "  warnings.warn(\"'precompute_distances' was deprecated in version \"\n"
     ]
    },
    {
     "data": {
      "text/plain": [
       "KMeans(algorithm='full', max_iter=600, n_clusters=18, precompute_distances=True)"
      ]
     },
     "execution_count": 56,
     "metadata": {},
     "output_type": "execute_result"
    }
   ],
   "source": [
    "km.fit(X)"
   ]
  },
  {
   "cell_type": "markdown",
   "id": "front-narrative",
   "metadata": {},
   "source": [
    "Есть два вида метрик оценки качества кластеризации:\n",
    "\n",
    "внешние - используют дополнительные знания о кластерах (распределение по кластерам, количество кластеров)\n",
    "внутренние - оценивают качество полученной структуры, не используя внешнюю информацию\n",
    "Т.к. у нас нет никаких дополнительных знаний (но для меньшего объема данных их можно получить экспертно при необходимости), посмотрим на внутренние метрики. В sklearn есть следующие:"
   ]
  },
  {
   "cell_type": "code",
   "execution_count": 57,
   "id": "buried-alignment",
   "metadata": {},
   "outputs": [
    {
     "name": "stdout",
     "output_type": "stream",
     "text": [
      "0.0868968053447224\n",
      "1.3695426552227496\n"
     ]
    }
   ],
   "source": [
    "print(metrics.silhouette_score(X, km.labels_, sample_size=1000))\n",
    "print(metrics.davies_bouldin_score(X.toarray(), km.labels_))"
   ]
  },
  {
   "cell_type": "markdown",
   "id": "raised-passage",
   "metadata": {},
   "source": [
    "силуэт: показывает, насколько объект похож на свой кластер относительно других кластеров; если значение стремится к 1 - хорошее разбиение, если к -1 - плохое, если в районе 0 - кластеры пересекаются\n",
    "индекс Дэвиcа-Болдуина: оценивает расстояние от объекта кластера до центроида и расстояние между центроидами; чем ниже, тем лучше разбиение"
   ]
  },
  {
   "cell_type": "markdown",
   "id": "reflected-functionality",
   "metadata": {},
   "source": [
    "Оценка первого параметра при разном кол-ве кластеров колеблется от 0.7 до 1, что не очень хорошо  \n",
    "А вот второй параметр уменьшается по мере увеличения количества кластеров, и имеет довольно неплохой результат"
   ]
  },
  {
   "cell_type": "code",
   "execution_count": 58,
   "id": "biological-steam",
   "metadata": {},
   "outputs": [
    {
     "name": "stderr",
     "output_type": "stream",
     "text": [
      "<ipython-input-58-20dc8af91091>:1: SettingWithCopyWarning: \n",
      "A value is trying to be set on a copy of a slice from a DataFrame.\n",
      "Try using .loc[row_indexer,col_indexer] = value instead\n",
      "\n",
      "See the caveats in the documentation: https://pandas.pydata.org/pandas-docs/stable/user_guide/indexing.html#returning-a-view-versus-a-copy\n",
      "  df_ner[\"label\"] = km.predict(X)\n"
     ]
    }
   ],
   "source": [
    "df_ner[\"label\"] = km.predict(X)"
   ]
  },
  {
   "cell_type": "code",
   "execution_count": 59,
   "id": "sophisticated-overhead",
   "metadata": {},
   "outputs": [
    {
     "data": {
      "text/plain": [
       "2     170\n",
       "13     10\n",
       "14      8\n",
       "3       7\n",
       "12      4\n",
       "15      4\n",
       "17      3\n",
       "6       3\n",
       "8       3\n",
       "5       2\n",
       "11      2\n",
       "16      1\n",
       "0       1\n",
       "10      1\n",
       "1       1\n",
       "7       1\n",
       "4       1\n",
       "9       1\n",
       "Name: label, dtype: int64"
      ]
     },
     "execution_count": 59,
     "metadata": {},
     "output_type": "execute_result"
    }
   ],
   "source": [
    "df_ner[\"label\"].value_counts()"
   ]
  },
  {
   "cell_type": "code",
   "execution_count": 64,
   "id": "severe-table",
   "metadata": {},
   "outputs": [
    {
     "data": {
      "text/html": [
       "<div>\n",
       "<style scoped>\n",
       "    .dataframe tbody tr th:only-of-type {\n",
       "        vertical-align: middle;\n",
       "    }\n",
       "\n",
       "    .dataframe tbody tr th {\n",
       "        vertical-align: top;\n",
       "    }\n",
       "\n",
       "    .dataframe thead th {\n",
       "        text-align: right;\n",
       "    }\n",
       "</style>\n",
       "<table border=\"1\" class=\"dataframe\">\n",
       "  <thead>\n",
       "    <tr style=\"text-align: right;\">\n",
       "      <th></th>\n",
       "      <th>title</th>\n",
       "      <th>text</th>\n",
       "      <th>named_entities</th>\n",
       "      <th>label</th>\n",
       "    </tr>\n",
       "  </thead>\n",
       "  <tbody>\n",
       "    <tr>\n",
       "      <th>27</th>\n",
       "      <td>Бифштекс</td>\n",
       "      <td>Бифштекс, стейк-филе — блюдо из жареной говяди...</td>\n",
       "      <td>[бифштекс, британия, сша, сша, сша]</td>\n",
       "      <td>3</td>\n",
       "    </tr>\n",
       "    <tr>\n",
       "      <th>80</th>\n",
       "      <td>Доллар США</td>\n",
       "      <td>Доллар Соединенных Штатов Америки — денежная е...</td>\n",
       "      <td>[bloomberg, swift, соединенные штаты америка, ...</td>\n",
       "      <td>3</td>\n",
       "    </tr>\n",
       "    <tr>\n",
       "      <th>105</th>\n",
       "      <td>Камин</td>\n",
       "      <td>Камин — разновидность печей-теплогенераторов, ...</td>\n",
       "      <td>[агентство по охрана окружающая среда, вашингт...</td>\n",
       "      <td>3</td>\n",
       "    </tr>\n",
       "    <tr>\n",
       "      <th>149</th>\n",
       "      <td>Луксор Лас-Вегас</td>\n",
       "      <td>«Луксор Лас-Вегас» — гостиница и казино, распо...</td>\n",
       "      <td>[кларк, лас-вегас-стрип, луксор лас-вегас, нев...</td>\n",
       "      <td>3</td>\n",
       "    </tr>\n",
       "    <tr>\n",
       "      <th>245</th>\n",
       "      <td>Роберт Баллард</td>\n",
       "      <td>Роберт Дуэйн Баллард — американский исследоват...</td>\n",
       "      <td>[nautilus, uss yorktown, вмс, джон кеннеди, ро...</td>\n",
       "      <td>3</td>\n",
       "    </tr>\n",
       "    <tr>\n",
       "      <th>254</th>\n",
       "      <td>США</td>\n",
       "      <td>Соединенные Штаты Америки, сокращенно США, или...</td>\n",
       "      <td>[атлантический океан, вашингтон, всемирный бан...</td>\n",
       "      <td>3</td>\n",
       "    </tr>\n",
       "    <tr>\n",
       "      <th>343</th>\n",
       "      <td>Штаты США</td>\n",
       "      <td>Штат США — одна из 50 составляющих администрат...</td>\n",
       "      <td>[соединенные штаты, сша, сша, сша, штат]</td>\n",
       "      <td>3</td>\n",
       "    </tr>\n",
       "  </tbody>\n",
       "</table>\n",
       "</div>"
      ],
      "text/plain": [
       "                title                                               text  \\\n",
       "27           Бифштекс  Бифштекс, стейк-филе — блюдо из жареной говяди...   \n",
       "80         Доллар США  Доллар Соединенных Штатов Америки — денежная е...   \n",
       "105             Камин  Камин — разновидность печей-теплогенераторов, ...   \n",
       "149  Луксор Лас-Вегас  «Луксор Лас-Вегас» — гостиница и казино, распо...   \n",
       "245    Роберт Баллард  Роберт Дуэйн Баллард — американский исследоват...   \n",
       "254               США  Соединенные Штаты Америки, сокращенно США, или...   \n",
       "343         Штаты США  Штат США — одна из 50 составляющих администрат...   \n",
       "\n",
       "                                        named_entities  label  \n",
       "27                 [бифштекс, британия, сша, сша, сша]      3  \n",
       "80   [bloomberg, swift, соединенные штаты америка, ...      3  \n",
       "105  [агентство по охрана окружающая среда, вашингт...      3  \n",
       "149  [кларк, лас-вегас-стрип, луксор лас-вегас, нев...      3  \n",
       "245  [nautilus, uss yorktown, вмс, джон кеннеди, ро...      3  \n",
       "254  [атлантический океан, вашингтон, всемирный бан...      3  \n",
       "343           [соединенные штаты, сша, сша, сша, штат]      3  "
      ]
     },
     "execution_count": 64,
     "metadata": {},
     "output_type": "execute_result"
    }
   ],
   "source": [
    "df_ner.query(\"label == 3\")"
   ]
  },
  {
   "cell_type": "code",
   "execution_count": 65,
   "id": "steady-ecology",
   "metadata": {},
   "outputs": [
    {
     "data": {
      "text/html": [
       "<div>\n",
       "<style scoped>\n",
       "    .dataframe tbody tr th:only-of-type {\n",
       "        vertical-align: middle;\n",
       "    }\n",
       "\n",
       "    .dataframe tbody tr th {\n",
       "        vertical-align: top;\n",
       "    }\n",
       "\n",
       "    .dataframe thead th {\n",
       "        text-align: right;\n",
       "    }\n",
       "</style>\n",
       "<table border=\"1\" class=\"dataframe\">\n",
       "  <thead>\n",
       "    <tr style=\"text-align: right;\">\n",
       "      <th></th>\n",
       "      <th>title</th>\n",
       "      <th>text</th>\n",
       "      <th>named_entities</th>\n",
       "      <th>label</th>\n",
       "    </tr>\n",
       "  </thead>\n",
       "  <tbody>\n",
       "    <tr>\n",
       "      <th>15</th>\n",
       "      <td>Атм</td>\n",
       "      <td>Атмосфера — внесистемная единица измерения дав...</td>\n",
       "      <td>[земля, международная организация законодатель...</td>\n",
       "      <td>14</td>\n",
       "    </tr>\n",
       "    <tr>\n",
       "      <th>51</th>\n",
       "      <td>Водород</td>\n",
       "      <td>Водород — химический элемент периодической сис...</td>\n",
       "      <td>[земля]</td>\n",
       "      <td>14</td>\n",
       "    </tr>\n",
       "    <tr>\n",
       "      <th>93</th>\n",
       "      <td>Земля</td>\n",
       "      <td>Земля — третья по удаленности от Солнца планет...</td>\n",
       "      <td>[арктика, венера, земля, земля, земля, земля, ...</td>\n",
       "      <td>14</td>\n",
       "    </tr>\n",
       "    <tr>\n",
       "      <th>124</th>\n",
       "      <td>Компас</td>\n",
       "      <td>Компас; на профессиональном жаргоне моряков — ...</td>\n",
       "      <td>[земля]</td>\n",
       "      <td>14</td>\n",
       "    </tr>\n",
       "    <tr>\n",
       "      <th>150</th>\n",
       "      <td>Луна</td>\n",
       "      <td>Луна — единственный естественный спутник Земли...</td>\n",
       "      <td>[земля, земля, земля, земля, земля, луна, луна...</td>\n",
       "      <td>14</td>\n",
       "    </tr>\n",
       "    <tr>\n",
       "      <th>152</th>\n",
       "      <td>Магнитная девиация</td>\n",
       "      <td>Магнитная девиация или магнитное отклонение — ...</td>\n",
       "      <td>[земля]</td>\n",
       "      <td>14</td>\n",
       "    </tr>\n",
       "    <tr>\n",
       "      <th>316</th>\n",
       "      <td>Углекислый газ</td>\n",
       "      <td>Диоксид углерода или двуокись углерода — бесцв...</td>\n",
       "      <td>[земля, земля, земля, земля, земля, земля, сол...</td>\n",
       "      <td>14</td>\n",
       "    </tr>\n",
       "    <tr>\n",
       "      <th>331</th>\n",
       "      <td>Человек</td>\n",
       "      <td>Человек — общественное существо, обладающее ра...</td>\n",
       "      <td>[в. г. борзенков, земля, и. т. фролов]</td>\n",
       "      <td>14</td>\n",
       "    </tr>\n",
       "  </tbody>\n",
       "</table>\n",
       "</div>"
      ],
      "text/plain": [
       "                  title                                               text  \\\n",
       "15                  Атм  Атмосфера — внесистемная единица измерения дав...   \n",
       "51              Водород  Водород — химический элемент периодической сис...   \n",
       "93                Земля  Земля — третья по удаленности от Солнца планет...   \n",
       "124              Компас  Компас; на профессиональном жаргоне моряков — ...   \n",
       "150                Луна  Луна — единственный естественный спутник Земли...   \n",
       "152  Магнитная девиация  Магнитная девиация или магнитное отклонение — ...   \n",
       "316      Углекислый газ  Диоксид углерода или двуокись углерода — бесцв...   \n",
       "331             Человек  Человек — общественное существо, обладающее ра...   \n",
       "\n",
       "                                        named_entities  label  \n",
       "15   [земля, международная организация законодатель...     14  \n",
       "51                                             [земля]     14  \n",
       "93   [арктика, венера, земля, земля, земля, земля, ...     14  \n",
       "124                                            [земля]     14  \n",
       "150  [земля, земля, земля, земля, земля, луна, луна...     14  \n",
       "152                                            [земля]     14  \n",
       "316  [земля, земля, земля, земля, земля, земля, сол...     14  \n",
       "331             [в. г. борзенков, земля, и. т. фролов]     14  "
      ]
     },
     "execution_count": 65,
     "metadata": {},
     "output_type": "execute_result"
    }
   ],
   "source": [
    "df_ner.query(\"label == 14\")"
   ]
  },
  {
   "cell_type": "code",
   "execution_count": 66,
   "id": "gentle-fraud",
   "metadata": {},
   "outputs": [
    {
     "data": {
      "text/html": [
       "<div>\n",
       "<style scoped>\n",
       "    .dataframe tbody tr th:only-of-type {\n",
       "        vertical-align: middle;\n",
       "    }\n",
       "\n",
       "    .dataframe tbody tr th {\n",
       "        vertical-align: top;\n",
       "    }\n",
       "\n",
       "    .dataframe thead th {\n",
       "        text-align: right;\n",
       "    }\n",
       "</style>\n",
       "<table border=\"1\" class=\"dataframe\">\n",
       "  <thead>\n",
       "    <tr style=\"text-align: right;\">\n",
       "      <th></th>\n",
       "      <th>title</th>\n",
       "      <th>text</th>\n",
       "      <th>named_entities</th>\n",
       "      <th>label</th>\n",
       "    </tr>\n",
       "  </thead>\n",
       "  <tbody>\n",
       "    <tr>\n",
       "      <th>148</th>\n",
       "      <td>Лошадиная сила</td>\n",
       "      <td>Лошадиная сила — внесистемная единица мощности...</td>\n",
       "      <td>[англия, международная система, россия, россия...</td>\n",
       "      <td>12</td>\n",
       "    </tr>\n",
       "    <tr>\n",
       "      <th>168</th>\n",
       "      <td>Моллюск</td>\n",
       "      <td>Моллюски, или мягкотелые, — тип первичноротых ...</td>\n",
       "      <td>[россия]</td>\n",
       "      <td>12</td>\n",
       "    </tr>\n",
       "    <tr>\n",
       "      <th>252</th>\n",
       "      <td>Рыбы</td>\n",
       "      <td>Рыбы — парафилетическая группа водных позвоноч...</td>\n",
       "      <td>[россия]</td>\n",
       "      <td>12</td>\n",
       "    </tr>\n",
       "    <tr>\n",
       "      <th>256</th>\n",
       "      <td>Санкт-Петербург</td>\n",
       "      <td>Санкт-Петербург — второй по численности населе...</td>\n",
       "      <td>[военно-морской флот, вооруженные силы, гераль...</td>\n",
       "      <td>12</td>\n",
       "    </tr>\n",
       "  </tbody>\n",
       "</table>\n",
       "</div>"
      ],
      "text/plain": [
       "               title                                               text  \\\n",
       "148   Лошадиная сила  Лошадиная сила — внесистемная единица мощности...   \n",
       "168          Моллюск  Моллюски, или мягкотелые, — тип первичноротых ...   \n",
       "252             Рыбы  Рыбы — парафилетическая группа водных позвоноч...   \n",
       "256  Санкт-Петербург  Санкт-Петербург — второй по численности населе...   \n",
       "\n",
       "                                        named_entities  label  \n",
       "148  [англия, международная система, россия, россия...     12  \n",
       "168                                           [россия]     12  \n",
       "252                                           [россия]     12  \n",
       "256  [военно-морской флот, вооруженные силы, гераль...     12  "
      ]
     },
     "execution_count": 66,
     "metadata": {},
     "output_type": "execute_result"
    }
   ],
   "source": [
    "df_ner.query(\"label == 12\")"
   ]
  },
  {
   "cell_type": "code",
   "execution_count": 63,
   "id": "worthy-cleaners",
   "metadata": {},
   "outputs": [
    {
     "name": "stdout",
     "output_type": "stream",
     "text": [
      "Cluster 0: солонина японское море ехидну заморская территория залив белфаст зал слава закавказье жюль мишле жюль ардуэн-мансар жоау фернандеша лэврадур\n",
      "Cluster 1: итчен тест портсмут англия великобритания европа европейский союз евразия заморская территория залив белфаст\n",
      "Cluster 2: канада уайт сша европа титаник великобритания белфаст франция морзе кунард\n",
      "Cluster 3: сша америка nautilus вмс штат бифштекс парадайз кларк стрип невад\n",
      "Cluster 4: англия шотландия нидерланды оранский японское море ж. картье заморская территория залив белфаст зал слава закавказье\n",
      "Cluster 5: атлантика северная азовское евразия шпицберген черное америка атлантический жоау фернандеша лэврадур жан кальвин\n",
      "Cluster 6: гренландия америка северная земля атлантический южная австралия европа исландия антарктида\n",
      "Cluster 7: непотопляемость трюм японское море ж. б. ламарком запад заморская территория залив белфаст зал слава закавказье жюль мишле\n",
      "Cluster 8: испания мадрид европа африка португалия андорра марокко канарские гибралтар нато\n",
      "Cluster 9: массачусетс бостон содружество англия атлантический сша жан кальвин женева жоау фернандеша лэврадур японское море\n",
      "Cluster 10: эллипс западное полушарие западная европа запад заморская территория залив белфаст зал слава закавказье жюль мишле жюль ардуэн-мансар\n",
      "Cluster 11: конгресс сша японское море ехидну заморская территория залив белфаст зал слава закавказье жюль мишле жюль ардуэн-мансар\n",
      "Cluster 12: россия российская англия сша эстония ленинград нева снг кронштадт эрмитаж\n",
      "Cluster 13: великобритания ирландия лондон англия северная шотландия уэльс георг уайтхолл европа\n",
      "Cluster 14: земля луна российская солнце марс тейи венера арктика меркурий жан кальвин\n",
      "Cluster 15: европа париж шотландия франция ришелье сена азия океания зевсом евразия\n",
      "Cluster 16: грирсон японское море западное полушарие запад заморская территория залив белфаст зал слава закавказье жюль мишле жюль ардуэн-мансар\n",
      "Cluster 17: франция париж республика сена нато паризии сите евросоюз версаль оон\n"
     ]
    }
   ],
   "source": [
    "order_centroids = km.cluster_centers_.argsort()[:, ::-1]\n",
    "terms = pipe[0].get_feature_names()\n",
    "for i in range(18):\n",
    "  print(\"Cluster %d:\" % i, end='')\n",
    "  for ind in order_centroids[i, :10]:\n",
    "    print(' %s' % terms[ind], end='')\n",
    "  print()"
   ]
  },
  {
   "cell_type": "markdown",
   "id": "manufactured-consortium",
   "metadata": {},
   "source": [
    "### Вывод\n",
    "В общем и целом, разбиение на кластеры выглядит успешным, так как примерно прослеживается тематика почти каждого кластера"
   ]
  },
  {
   "cell_type": "code",
   "execution_count": null,
   "id": "opponent-gospel",
   "metadata": {},
   "outputs": [],
   "source": []
  }
 ],
 "metadata": {
  "kernelspec": {
   "display_name": "cs224",
   "language": "python",
   "name": "cs224"
  },
  "language_info": {
   "codemirror_mode": {
    "name": "ipython",
    "version": 3
   },
   "file_extension": ".py",
   "mimetype": "text/x-python",
   "name": "python",
   "nbconvert_exporter": "python",
   "pygments_lexer": "ipython3",
   "version": "3.8.5"
  }
 },
 "nbformat": 4,
 "nbformat_minor": 5
}
