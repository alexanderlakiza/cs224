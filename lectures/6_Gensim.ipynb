{
  "nbformat": 4,
  "nbformat_minor": 0,
  "metadata": {
    "colab": {
      "name": "6 Gensim.ipynb",
      "provenance": []
    },
    "kernelspec": {
      "name": "python3",
      "display_name": "Python 3"
    },
    "language_info": {
      "name": "python"
    }
  },
  "cells": [
    {
      "cell_type": "markdown",
      "metadata": {
        "id": "QGdzVxwuaEQk"
      },
      "source": [
        "# Возможности библиотеки Gensim"
      ]
    },
    {
      "cell_type": "markdown",
      "metadata": {
        "id": "JbNZ_aWIaOp-"
      },
      "source": [
        "Возможностей у библиотеки `gensim` ([документация](https://radimrehurek.com/gensim/apiref.html)) много. Остановимся пока на тех, которые помогают решать уже известные нам задачи."
      ]
    },
    {
      "cell_type": "markdown",
      "metadata": {
        "id": "UhG7CSp_bS55"
      },
      "source": [
        "Скачаем с RusVectōrēs модель для русского языка, обученную на НКРЯ образца 2015 г."
      ]
    },
    {
      "cell_type": "code",
      "metadata": {
        "colab": {
          "base_uri": "https://localhost:8080/"
        },
        "id": "PGI_uDC9lFxG",
        "outputId": "527fda09-9371-47d1-a3a6-156dc7163207"
      },
      "source": [
        "!pip install gensim==4.0.0"
      ],
      "execution_count": null,
      "outputs": [
        {
          "output_type": "stream",
          "text": [
            "Collecting gensim==4.0.0\n",
            "\u001b[?25l  Downloading https://files.pythonhosted.org/packages/c3/dd/5e00b6e788a9c522b48f9df10472b2017102ffa65b10bc657471e0713542/gensim-4.0.0-cp37-cp37m-manylinux1_x86_64.whl (23.9MB)\n",
            "\u001b[K     |████████████████████████████████| 23.9MB 2.1MB/s \n",
            "\u001b[?25hRequirement already satisfied: numpy>=1.11.3 in /usr/local/lib/python3.7/dist-packages (from gensim==4.0.0) (1.19.5)\n",
            "Requirement already satisfied: scipy>=0.18.1 in /usr/local/lib/python3.7/dist-packages (from gensim==4.0.0) (1.4.1)\n",
            "Requirement already satisfied: smart-open>=1.8.1 in /usr/local/lib/python3.7/dist-packages (from gensim==4.0.0) (4.2.0)\n",
            "Installing collected packages: gensim\n",
            "  Found existing installation: gensim 3.6.0\n",
            "    Uninstalling gensim-3.6.0:\n",
            "      Successfully uninstalled gensim-3.6.0\n",
            "Successfully installed gensim-4.0.0\n"
          ],
          "name": "stdout"
        }
      ]
    },
    {
      "cell_type": "code",
      "metadata": {
        "colab": {
          "base_uri": "https://localhost:8080/"
        },
        "id": "kTnxWXhubJ3W",
        "outputId": "f58165dd-4446-4a6a-e93b-044c16ac8442"
      },
      "source": [
        "import urllib.request # библиотека для скачивания данных\n",
        "import gensim # библиотека для загрузки и использвоания моделй w2v\n",
        "from gensim.models import word2vec # непосредственно методы w2v\n",
        "from gensim.models import Word2Vec"
      ],
      "execution_count": null,
      "outputs": [
        {
          "output_type": "stream",
          "text": [
            "/usr/local/lib/python3.7/dist-packages/gensim/similarities/__init__.py:15: UserWarning: The gensim.similarities.levenshtein submodule is disabled, because the optional Levenshtein package <https://pypi.org/project/python-Levenshtein/> is unavailable. Install Levenhstein (e.g. `pip install python-Levenshtein`) to suppress this warning.\n",
            "  warnings.warn(msg)\n"
          ],
          "name": "stderr"
        }
      ]
    },
    {
      "cell_type": "code",
      "metadata": {
        "colab": {
          "base_uri": "https://localhost:8080/"
        },
        "id": "yhY2nOyTbM1h",
        "outputId": "e56632b0-fdbe-4efa-f0d8-1f293ed13725"
      },
      "source": [
        "# скачиваем модель ruscorpora_mystem_cbow_300 с сайта rusvectores\n",
        "# 300 - размерность вектора embeddings для слов\n",
        "\n",
        "urllib.request.urlretrieve(\"http://rusvectores.org/static/models/rusvectores2/ruscorpora_mystem_cbow_300_2_2015.bin.gz\", \"ruscorpora_mystem_cbow_300_2_2015.bin.gz\")"
      ],
      "execution_count": null,
      "outputs": [
        {
          "output_type": "execute_result",
          "data": {
            "text/plain": [
              "('ruscorpora_mystem_cbow_300_2_2015.bin.gz',\n",
              " <http.client.HTTPMessage at 0x7fbd61d0db10>)"
            ]
          },
          "metadata": {
            "tags": []
          },
          "execution_count": 3
        }
      ]
    },
    {
      "cell_type": "markdown",
      "metadata": {
        "id": "iIY8HdoEbRCE"
      },
      "source": [
        "Загружаем скачанную модель. Обратите внимание, что мы скачали бинарный файл (.bin.gz), поэтому у функции load_word2vec_format() параметр binary=True"
      ]
    },
    {
      "cell_type": "code",
      "metadata": {
        "id": "w0YvC5bBbVVm"
      },
      "source": [
        "model_path = 'ruscorpora_mystem_cbow_300_2_2015.bin.gz'\n",
        "\n",
        "model_ru = gensim.models.KeyedVectors.load_word2vec_format(model_path, binary=True)"
      ],
      "execution_count": null,
      "outputs": []
    },
    {
      "cell_type": "code",
      "metadata": {
        "colab": {
          "base_uri": "https://localhost:8080/"
        },
        "id": "qEGq_BXEdDW3",
        "outputId": "692260fe-d820-4e9a-8f85-010faf9da8bd"
      },
      "source": [
        "sims = model_ru.most_similar(positive=[\"аллигатор_S\"], topn=5) # топ-5 похожих слов для слова\n",
        "sims"
      ],
      "execution_count": null,
      "outputs": [
        {
          "output_type": "execute_result",
          "data": {
            "text/plain": [
              "[('хищник_S', 0.3991128206253052),\n",
              " ('мурена_S', 0.38718169927597046),\n",
              " ('бегемот_S', 0.3844783306121826),\n",
              " ('бизон_S', 0.38189974427223206),\n",
              " ('крокодил_S', 0.3761039972305298)]"
            ]
          },
          "metadata": {
            "tags": []
          },
          "execution_count": 5
        }
      ]
    },
    {
      "cell_type": "code",
      "metadata": {
        "colab": {
          "base_uri": "https://localhost:8080/"
        },
        "id": "WnsUdbIwdb4n",
        "outputId": "bb385ad6-05c4-4533-cb4a-39da726cacce"
      },
      "source": [
        "sims = model_ru.most_similar(positive=[\"крокодил_S\"], topn=20)\n",
        "sims"
      ],
      "execution_count": null,
      "outputs": [
        {
          "output_type": "execute_result",
          "data": {
            "text/plain": [
              "[('бегемот_S', 0.5721606016159058),\n",
              " ('тигр_S', 0.5313233733177185),\n",
              " ('обезьяна_S', 0.4829217195510864),\n",
              " ('жираф_S', 0.47938424348831177),\n",
              " ('слон_S', 0.4748277962207794),\n",
              " ('попугай_S', 0.47201526165008545),\n",
              " ('черепаха_S', 0.4627811312675476),\n",
              " ('носорог_S', 0.4475346505641937),\n",
              " ('гиппопотам_S', 0.44745805859565735),\n",
              " ('ящерица_S', 0.4453752040863037),\n",
              " ('крыса_S', 0.44458135962486267),\n",
              " ('зебра_S', 0.4396708011627197),\n",
              " ('медведь_S', 0.4394797682762146),\n",
              " ('бесхвостый_A', 0.4383789300918579),\n",
              " ('леопард_S', 0.4359731078147888),\n",
              " ('кролик_S', 0.43514931201934814),\n",
              " ('волк_S', 0.4273054599761963),\n",
              " ('кенгуру_S', 0.4267985224723816),\n",
              " ('лягушка_S', 0.4261247515678406),\n",
              " ('чудовище_S', 0.42595285177230835)]"
            ]
          },
          "metadata": {
            "tags": []
          },
          "execution_count": 6
        }
      ]
    },
    {
      "cell_type": "markdown",
      "metadata": {
        "id": "byWLTh7ZfnR6"
      },
      "source": [
        "Как видим, логически наиболее близкие друг к другу слова (крокодил-аллигатор) не всегда могут оказываться даже в топ-5 наиболее похожих слов друг у друга.\n",
        "\n",
        "**NB!** При составлении словаря синонимов в **Задании 7** нужно внимательно продумать логику."
      ]
    },
    {
      "cell_type": "markdown",
      "metadata": {
        "id": "AVZuao_ZgXX4"
      },
      "source": [
        "# Извлечение n-грамм"
      ]
    },
    {
      "cell_type": "markdown",
      "metadata": {
        "id": "KoPoIUJvgbzq"
      },
      "source": [
        "`gensim` можно научить находить n-граммы"
      ]
    },
    {
      "cell_type": "markdown",
      "metadata": {
        "id": "fQ0NMsdypC9M"
      },
      "source": [
        "Для примера возьмем тестовые данные [отсюда](https://www.kaggle.com/c/sentiment-analysis-in-russian/data?select=test.json)."
      ]
    },
    {
      "cell_type": "code",
      "metadata": {
        "id": "tTyW2neqo1Cl"
      },
      "source": [
        "import pandas as pd\n",
        "import re"
      ],
      "execution_count": null,
      "outputs": []
    },
    {
      "cell_type": "code",
      "metadata": {
        "colab": {
          "base_uri": "https://localhost:8080/",
          "height": 206
        },
        "id": "_Zh7MpA4o3OB",
        "outputId": "eb6f6445-221c-4e6a-80f8-26bb9c55b6a1"
      },
      "source": [
        "news = pd.read_json(\"test.json\")\n",
        "news.head()"
      ],
      "execution_count": null,
      "outputs": [
        {
          "output_type": "execute_result",
          "data": {
            "text/html": [
              "<div>\n",
              "<style scoped>\n",
              "    .dataframe tbody tr th:only-of-type {\n",
              "        vertical-align: middle;\n",
              "    }\n",
              "\n",
              "    .dataframe tbody tr th {\n",
              "        vertical-align: top;\n",
              "    }\n",
              "\n",
              "    .dataframe thead th {\n",
              "        text-align: right;\n",
              "    }\n",
              "</style>\n",
              "<table border=\"1\" class=\"dataframe\">\n",
              "  <thead>\n",
              "    <tr style=\"text-align: right;\">\n",
              "      <th></th>\n",
              "      <th>text</th>\n",
              "      <th>id</th>\n",
              "    </tr>\n",
              "  </thead>\n",
              "  <tbody>\n",
              "    <tr>\n",
              "      <th>0</th>\n",
              "      <td>Как сообщает пресс-служба акимата Алматы, для ...</td>\n",
              "      <td>0</td>\n",
              "    </tr>\n",
              "    <tr>\n",
              "      <th>1</th>\n",
              "      <td>Казахстанские авиакомпании перевозят 250 тысяч...</td>\n",
              "      <td>1</td>\n",
              "    </tr>\n",
              "    <tr>\n",
              "      <th>2</th>\n",
              "      <td>На состоявшемся под председательством Касым-Жо...</td>\n",
              "      <td>2</td>\n",
              "    </tr>\n",
              "    <tr>\n",
              "      <th>3</th>\n",
              "      <td>В ОАЭ состоялись переговоры между казахстанско...</td>\n",
              "      <td>3</td>\n",
              "    </tr>\n",
              "    <tr>\n",
              "      <th>4</th>\n",
              "      <td>12 вагонов грузового поезда сошли с путей в Во...</td>\n",
              "      <td>4</td>\n",
              "    </tr>\n",
              "  </tbody>\n",
              "</table>\n",
              "</div>"
            ],
            "text/plain": [
              "                                                text  id\n",
              "0  Как сообщает пресс-служба акимата Алматы, для ...   0\n",
              "1  Казахстанские авиакомпании перевозят 250 тысяч...   1\n",
              "2  На состоявшемся под председательством Касым-Жо...   2\n",
              "3  В ОАЭ состоялись переговоры между казахстанско...   3\n",
              "4  12 вагонов грузового поезда сошли с путей в Во...   4"
            ]
          },
          "metadata": {
            "tags": []
          },
          "execution_count": 9
        }
      ]
    },
    {
      "cell_type": "code",
      "metadata": {
        "colab": {
          "base_uri": "https://localhost:8080/"
        },
        "id": "K0zfLb1zpLOZ",
        "outputId": "66a03378-faaf-4c4c-e91d-c1ecdcae3816"
      },
      "source": [
        "news.shape"
      ],
      "execution_count": null,
      "outputs": [
        {
          "output_type": "execute_result",
          "data": {
            "text/plain": [
              "(2056, 2)"
            ]
          },
          "metadata": {
            "tags": []
          },
          "execution_count": 10
        }
      ]
    },
    {
      "cell_type": "code",
      "metadata": {
        "colab": {
          "base_uri": "https://localhost:8080/"
        },
        "id": "y7dBqg1-U_JX",
        "outputId": "dd9f4ee4-b4b5-4fc9-e2ff-da24380121a1"
      },
      "source": [
        "!pip install pymorphy2"
      ],
      "execution_count": null,
      "outputs": [
        {
          "output_type": "stream",
          "text": [
            "Collecting pymorphy2\n",
            "\u001b[?25l  Downloading https://files.pythonhosted.org/packages/07/57/b2ff2fae3376d4f3c697b9886b64a54b476e1a332c67eee9f88e7f1ae8c9/pymorphy2-0.9.1-py3-none-any.whl (55kB)\n",
            "\r\u001b[K     |██████                          | 10kB 15.8MB/s eta 0:00:01\r\u001b[K     |███████████▉                    | 20kB 21.3MB/s eta 0:00:01\r\u001b[K     |█████████████████▊              | 30kB 25.6MB/s eta 0:00:01\r\u001b[K     |███████████████████████▋        | 40kB 27.7MB/s eta 0:00:01\r\u001b[K     |█████████████████████████████▌  | 51kB 30.1MB/s eta 0:00:01\r\u001b[K     |████████████████████████████████| 61kB 6.0MB/s \n",
            "\u001b[?25hCollecting pymorphy2-dicts-ru<3.0,>=2.4\n",
            "\u001b[?25l  Downloading https://files.pythonhosted.org/packages/3a/79/bea0021eeb7eeefde22ef9e96badf174068a2dd20264b9a378f2be1cdd9e/pymorphy2_dicts_ru-2.4.417127.4579844-py2.py3-none-any.whl (8.2MB)\n",
            "\u001b[K     |████████████████████████████████| 8.2MB 23.8MB/s \n",
            "\u001b[?25hCollecting dawg-python>=0.7.1\n",
            "  Downloading https://files.pythonhosted.org/packages/6a/84/ff1ce2071d4c650ec85745766c0047ccc3b5036f1d03559fd46bb38b5eeb/DAWG_Python-0.7.2-py2.py3-none-any.whl\n",
            "Requirement already satisfied: docopt>=0.6 in /usr/local/lib/python3.7/dist-packages (from pymorphy2) (0.6.2)\n",
            "Installing collected packages: pymorphy2-dicts-ru, dawg-python, pymorphy2\n",
            "Successfully installed dawg-python-0.7.2 pymorphy2-0.9.1 pymorphy2-dicts-ru-2.4.417127.4579844\n"
          ],
          "name": "stdout"
        }
      ]
    },
    {
      "cell_type": "code",
      "metadata": {
        "id": "ZYzpLJHVEbTM"
      },
      "source": [
        "import nltk\n",
        "from nltk.tokenize import word_tokenize, RegexpTokenizer\n",
        "import string\n",
        "from nltk.corpus import stopwords\n",
        "import pymorphy2"
      ],
      "execution_count": null,
      "outputs": []
    },
    {
      "cell_type": "code",
      "metadata": {
        "colab": {
          "base_uri": "https://localhost:8080/"
        },
        "id": "wvwT0s0eH_rV",
        "outputId": "fb72eba8-9999-41d9-f19b-000002403082"
      },
      "source": [
        "nltk.download('stopwords')\n",
        "nltk.download('punkt')"
      ],
      "execution_count": null,
      "outputs": [
        {
          "output_type": "stream",
          "text": [
            "[nltk_data] Downloading package stopwords to /root/nltk_data...\n",
            "[nltk_data]   Unzipping corpora/stopwords.zip.\n",
            "[nltk_data] Downloading package punkt to /root/nltk_data...\n",
            "[nltk_data]   Unzipping tokenizers/punkt.zip.\n"
          ],
          "name": "stdout"
        },
        {
          "output_type": "execute_result",
          "data": {
            "text/plain": [
              "True"
            ]
          },
          "metadata": {
            "tags": []
          },
          "execution_count": 13
        }
      ]
    },
    {
      "cell_type": "code",
      "metadata": {
        "id": "M94ElZyrq3vq"
      },
      "source": [
        "tokenizer = nltk.data.load('tokenizers/punkt/english.pickle')\n",
        "analyzer = pymorphy2.MorphAnalyzer()"
      ],
      "execution_count": null,
      "outputs": []
    },
    {
      "cell_type": "code",
      "metadata": {
        "id": "M6hGw9FCpW3U"
      },
      "source": [
        "def text_to_wordlist(text, remove_stopwords=False):\n",
        "    # оставляем только буквенные символы\n",
        "    text = re.sub(\"[^а-яА-ЯёЁ]\",\" \", text)\n",
        "    # приводим к нижнему регистру и разбиваем на слова по символу пробела\n",
        "    words = text.lower().split()\n",
        "    if remove_stopwords:\n",
        "      # убираем стоп-слова\n",
        "        stops = stopwords.words(\"russian\")\n",
        "        words = [w for w in words if not w in stops]\n",
        "    norm_words = [analyzer.parse(word)[0].normal_form for word in words]\n",
        "    return norm_words\n",
        "\n",
        "def text_to_sentences(text, tokenizer, remove_stopwords=False):\n",
        "    raw_sentences = tokenizer.tokenize(text.strip())\n",
        "    sentences = []\n",
        "    for raw_sentence in raw_sentences:\n",
        "        if len(raw_sentence) > 0:\n",
        "            sentences.append(text_to_wordlist(raw_sentence, remove_stopwords=True))\n",
        "    return sentences"
      ],
      "execution_count": null,
      "outputs": []
    },
    {
      "cell_type": "code",
      "metadata": {
        "id": "-O4gVY-_rGHG"
      },
      "source": [
        "sentences = []\n",
        "for text in news[\"text\"]:\n",
        "    sentences += text_to_sentences(text, tokenizer)"
      ],
      "execution_count": null,
      "outputs": []
    },
    {
      "cell_type": "code",
      "metadata": {
        "colab": {
          "base_uri": "https://localhost:8080/"
        },
        "id": "SHkjncnzrVWD",
        "outputId": "1200ba57-4e7a-4cb5-f9ab-9e0db7b5f723"
      },
      "source": [
        "len(sentences)"
      ],
      "execution_count": null,
      "outputs": [
        {
          "output_type": "execute_result",
          "data": {
            "text/plain": [
              "66031"
            ]
          },
          "metadata": {
            "tags": []
          },
          "execution_count": 17
        }
      ]
    },
    {
      "cell_type": "code",
      "metadata": {
        "colab": {
          "base_uri": "https://localhost:8080/"
        },
        "id": "dFmrHqemreZH",
        "outputId": "ee03969f-5a96-4e10-c18d-7e6fbd75dd3f"
      },
      "source": [
        "sentences[10]"
      ],
      "execution_count": null,
      "outputs": [
        {
          "output_type": "execute_result",
          "data": {
            "text/plain": [
              "['отметить',\n",
              " 'министр',\n",
              " 'авиакомпания',\n",
              " 'эйр',\n",
              " 'астана',\n",
              " 'планироваться',\n",
              " 'расширение',\n",
              " 'парк',\n",
              " 'воздушный',\n",
              " 'судно']"
            ]
          },
          "metadata": {
            "tags": []
          },
          "execution_count": 18
        }
      ]
    },
    {
      "cell_type": "code",
      "metadata": {
        "id": "ZdxAJ9Eagskq"
      },
      "source": [
        "from gensim.models.phrases import Phrases"
      ],
      "execution_count": null,
      "outputs": []
    },
    {
      "cell_type": "code",
      "metadata": {
        "id": "oipBgCPIgxH3"
      },
      "source": [
        "phrases = Phrases(sentences, min_count=1, threshold=20)"
      ],
      "execution_count": null,
      "outputs": []
    },
    {
      "cell_type": "markdown",
      "metadata": {
        "id": "ZACE7yZkZeKF"
      },
      "source": [
        "Параметры у `Phrases` такие:\n",
        "*   `min_count` - минимальное число вхождений слова или фразы в корпус\n",
        "*   `threshold` - минимальный скор для фразы, фразы со скором меньше указанного не будут учтены\n",
        "*   `max_vocab_size` - максимальное количество токенов в словаре\n",
        "*   `delimeter` - разделитель токенов во фразе\n",
        "*   `scoring` - метод оценки фразы; помимо значения по умолчанию, есть встроенный вероятностный подход `npmi`\n",
        "\n",
        "$$\\text{npmi} = \\frac{ \\ln{prob(word_a, word_b)/(prob(word_a)\\cdot prob(word_b))} }{ -\\ln{prob(word_a, word_b}}$$\n",
        "\n",
        "$$prob(word) = \\frac{word\\_count}{corpus\\_word\\_count}$$\n",
        "\n",
        "*   `connector_words` - слова, которые могут быть включены во фразу без ущерба для скора, можно задать просто списком слов. Для английского языка есть встроенный `ENGLISH_CONNECTOR_WORDS`. Для других языков надо создавать разумный список вручную\n"
      ]
    },
    {
      "cell_type": "code",
      "metadata": {
        "id": "52qRYc1PsYvn"
      },
      "source": [
        "import random"
      ],
      "execution_count": null,
      "outputs": []
    },
    {
      "cell_type": "code",
      "metadata": {
        "colab": {
          "base_uri": "https://localhost:8080/"
        },
        "id": "0oFOu52fh7e6",
        "outputId": "c350ed43-1a41-40a0-9fda-ccacbf8c683e"
      },
      "source": [
        "random.sample(phrases.find_phrases(sentences).items(), 10)"
      ],
      "execution_count": null,
      "outputs": [
        {
          "output_type": "execute_result",
          "data": {
            "text/plain": [
              "[('бурение_объединение', 465.1658986175115),\n",
              " ('поддельный_деньга', 74.75978387113064),\n",
              " ('редактор_издание', 53.36173587081892),\n",
              " ('партия_ак', 145.68257984705352),\n",
              " ('злотый_тенг', 81.74684159378036),\n",
              " ('киргизия_таджикистан', 212.40573888091822),\n",
              " ('коррупционер_прилипать', 30843.083333333332),\n",
              " ('гуманитарный_помощь', 21.290669581224115),\n",
              " ('посевная_площадь', 656.2358156028369),\n",
              " ('наземный_подземный', 290.0603448275862)]"
            ]
          },
          "metadata": {
            "tags": []
          },
          "execution_count": 22
        }
      ]
    },
    {
      "cell_type": "code",
      "metadata": {
        "colab": {
          "base_uri": "https://localhost:8080/"
        },
        "id": "fu101sVr9v6e",
        "outputId": "109d526a-5051-45f0-d0fa-4aa6412bd89f"
      },
      "source": [
        "phrases.find_phrases(sentences[10]).items()"
      ],
      "execution_count": null,
      "outputs": [
        {
          "output_type": "execute_result",
          "data": {
            "text/plain": [
              "dict_items([])"
            ]
          },
          "metadata": {
            "tags": []
          },
          "execution_count": 23
        }
      ]
    },
    {
      "cell_type": "code",
      "metadata": {
        "colab": {
          "base_uri": "https://localhost:8080/"
        },
        "id": "hbAd-nK2Xf0Q",
        "outputId": "6734bc21-f9bd-4ac9-ad6c-6e0366a97f82"
      },
      "source": [
        "list(phrases.analyze_sentence(sentences[10]))"
      ],
      "execution_count": null,
      "outputs": [
        {
          "output_type": "execute_result",
          "data": {
            "text/plain": [
              "[('отметить', None),\n",
              " ('министр', None),\n",
              " ('авиакомпания_эйр', 422.2325619295958),\n",
              " ('астана', None),\n",
              " ('планироваться', None),\n",
              " ('расширение_парк', 26.682791435368753),\n",
              " ('воздушный_судно', 699.1098888888889)]"
            ]
          },
          "metadata": {
            "tags": []
          },
          "execution_count": 24
        }
      ]
    },
    {
      "cell_type": "code",
      "metadata": {
        "id": "7GVzts-H9C4i"
      },
      "source": [
        "greenpeace = [['greenpeace', 'франции', 'совместно', 'другими', 'нко', 'notre', 'affaire', 'à', 'tous', 'фонд', 'николя', 'юло', 'oxfam', 'france', 'требуют', 'властей', 'возместить', 'ущерб', 'причинённый', 'гражданам', 'страны', 'из-за', 'политики', 'области', 'экологии', 'начать', 'активные', 'действия', 'рамках', 'предыдущих', 'соглашений'],\n",
        "['соответствующий', 'иск', 'подали', 'ещё', 'года', 'назад', 'из-за', 'бездействия', 'государства', 'решении', 'проблемы', 'климатического', 'кризиса'],\n",
        "['сегодня', 'состоялось', 'слушание', 'дела', 'суде', 'парижа', 'решение', 'которому', 'вынесено', 'течение', 'двух', 'недель'],\n",
        "['хотя', 'климатический', 'кризис', 'остаётся', 'одной', 'главных', 'проблем', 'французов', '2020', 'году', 'побиты', 'новые', 'температурные', 'рекорды', 'государство', 'продолжает', 'откладывать', 'принятие', 'необходимых', 'мер'],\n",
        "['выбросы', 'парниковых', 'газов', 'течение', 'последних', 'пяти', 'лет', 'продолжали', 'снижаться', 'вдвое', 'медленнее', 'показатели', 'предусмотренные', 'законом'],\n",
        "['декабре', 'прошлого', 'года', 'высший', 'совет', 'климату', 'независимый', 'орган', 'созданный', '2018', 'году', 'состоящий', 'экспертов', 'климату', 'проанализировал', 'две', 'трети', 'плана', 'стимулирования', 'работают', 'наоборот', 'могут', 'способствовать', 'увеличению', 'выбросов'],\n",
        "['greenpeace', 'франции', 'надеются', 'суд', 'признает', 'обязанность', 'государств', 'бороться', 'климатическим', 'кризисом', 'это', 'подтверждает', 'хартия', 'окружающей', 'среды', '2004', 'года', 'европейская', 'конвенция', 'правах', 'человека'],\n",
        "['такое', 'решение', 'историческим', 'закрепило', 'законе', 'борьба', 'изменением', 'климата', 'играет', 'важную', 'роль', 'защите', 'основ', 'ных', 'прав', 'граждан'],\n",
        "['greenpeace', 'france', 'кроме', 'greenpeace', 'франции', 'ранее', 'запустил', 'петицию', 'дело', 'века', 'которую', 'поддержало', 'двух', 'миллионов', 'граждан'],\n",
        "['климатический', 'кризис', 'оказывает', 'серьёзное', 'воздействие', 'жизнь', 'каждого', 'увеличение', 'дней', 'экстремально', 'высокой', 'температурой', 'приводит', 'повышению', 'смертности', 'людей', 'всему', 'миру', 'растёт', 'ареал', 'распространения', 'различных', 'вирусов', 'инфекций'],\n",
        "['россии', 'остро', 'стоит', 'необходимость', 'скорейшего', 'начала', 'технологической', 'трансформации', 'экономики', 'сторону', 'климатически', 'устойчивых', 'технологий'],\n",
        "['надеемся', 'судебный', 'процесс', 'франции', 'выигран', 'людьми', 'станет', 'примером', 'числе', 'нашего', 'государства', 'вопросах', 'важности', 'срочного', 'принятия', 'мер', 'решению', 'климатического', 'кризиса', 'прокомментировала', 'руководительница', 'энергетического', 'отдела', 'greenpeace', 'россии', 'елена', 'сакирко']]"
      ],
      "execution_count": null,
      "outputs": []
    },
    {
      "cell_type": "code",
      "metadata": {
        "id": "92IIf2H1YEHO"
      },
      "source": [
        "for sent in greenpeace:\n",
        "  for i in range(len(sent)):\n",
        "    sent[i] = analyzer.parse(sent[i])[0].normal_form"
      ],
      "execution_count": null,
      "outputs": []
    },
    {
      "cell_type": "code",
      "metadata": {
        "colab": {
          "base_uri": "https://localhost:8080/"
        },
        "id": "5b0lLWkOYX_z",
        "outputId": "38de4e00-ce11-45c8-d291-8ca4cea4f13b"
      },
      "source": [
        "for sent in greenpeace:\n",
        "  print(sent)"
      ],
      "execution_count": null,
      "outputs": [
        {
          "output_type": "stream",
          "text": [
            "['greenpeace', 'франция', 'совместно', 'другой', 'нко', 'notre', 'affaire', 'à', 'tous', 'фонд', 'николя', 'юло', 'oxfam', 'france', 'требовать', 'власть', 'возместить', 'ущерб', 'причинить', 'гражданин', 'страна', 'из-за', 'политика', 'область', 'экология', 'начать', 'активный', 'действие', 'рамка', 'предыдущий', 'соглашение']\n",
            "['соответствовать', 'иск', 'подать', 'ещё', 'год', 'назад', 'из-за', 'бездействие', 'государство', 'решение', 'проблема', 'климатический', 'кризис']\n",
            "['сегодня', 'состояться', 'слушание', 'дело', 'суд', 'париж', 'решение', 'который', 'вынести', 'течение', 'два', 'неделя']\n",
            "['хотя', 'климатический', 'кризис', 'оставаться', 'один', 'главный', 'проблема', 'француз', '2020', 'год', 'побить', 'новый', 'температурный', 'рекорд', 'государство', 'продолжать', 'откладывать', 'принятие', 'необходимый', 'мера']\n",
            "['выброс', 'парниковый', 'газ', 'течение', 'последний', 'пять', 'год', 'продолжать', 'снижаться', 'вдвое', 'медленный', 'показатель', 'предусмотренный', 'закон']\n",
            "['декабрь', 'прошлое', 'год', 'высокий', 'совет', 'климат', 'независимый', 'орган', 'создать', '2018', 'год', 'состоять', 'эксперт', 'климат', 'проанализировать', 'два', 'треть', 'план', 'стимулирование', 'работать', 'наоборот', 'мочь', 'способствовать', 'увеличение', 'выброс']\n",
            "['greenpeace', 'франция', 'надеяться', 'суд', 'признать', 'обязанность', 'государство', 'бороться', 'климатический', 'кризис', 'это', 'подтверждать', 'хартия', 'окружающий', 'среда', '2004', 'год', 'европейский', 'конвенция', 'право', 'человек']\n",
            "['такой', 'решение', 'исторический', 'закрепить', 'закон', 'борьба', 'изменение', 'климат', 'играть', 'важный', 'роль', 'защита', 'основа', 'ных', 'право', 'гражданин']\n",
            "['greenpeace', 'france', 'кроме', 'greenpeace', 'франция', 'ранее', 'запустить', 'петиция', 'дело', 'век', 'который', 'поддержать', 'два', 'миллион', 'гражданин']\n",
            "['климатический', 'кризис', 'оказывать', 'серьёзный', 'воздействие', 'жизнь', 'каждый', 'увеличение', 'день', 'экстремально', 'высокий', 'температура', 'приводить', 'повышение', 'смертность', 'человек', 'весь', 'мир', 'расти', 'ареал', 'распространение', 'различный', 'вирус', 'инфекция']\n",
            "['россия', 'остро', 'стоить', 'необходимость', 'скорый', 'начало', 'технологический', 'трансформация', 'экономика', 'сторона', 'климатически', 'устойчивый', 'технология']\n",
            "['надеяться', 'судебный', 'процесс', 'франция', 'выиграть', 'человек', 'стать', 'пример', 'число', 'наш', 'государство', 'вопрос', 'важность', 'срочный', 'принятие', 'мера', 'решение', 'климатический', 'кризис', 'прокомментировать', 'руководительница', 'энергетический', 'отдел', 'greenpeace', 'россия', 'елена', 'сакирко']\n"
          ],
          "name": "stdout"
        }
      ]
    },
    {
      "cell_type": "code",
      "metadata": {
        "colab": {
          "base_uri": "https://localhost:8080/"
        },
        "id": "95ww9XN_9V4S",
        "outputId": "5cf1efaa-4f18-43c0-c154-4b55265cecd2"
      },
      "source": [
        "for sent in greenpeace:\n",
        "  print(list(phrases.analyze_sentence(sent)))"
      ],
      "execution_count": null,
      "outputs": [
        {
          "output_type": "stream",
          "text": [
            "[('greenpeace', None), ('франция', None), ('совместно', None), ('другой', None), ('нко', None), ('notre', None), ('affaire', None), ('à', None), ('tous', None), ('фонд', None), ('николя', None), ('юло', None), ('oxfam', None), ('france', None), ('требовать', None), ('власть', None), ('возместить', None), ('ущерб_причинить', 2238.610887096774), ('гражданин', None), ('страна', None), ('из-за', None), ('политика', None), ('область', None), ('экология', None), ('начать', None), ('активный', None), ('действие', None), ('рамка', None), ('предыдущий', None), ('соглашение', None)]\n",
            "[('соответствовать', None), ('иск', None), ('подать', None), ('ещё', None), ('год_назад', 25.92219100236486), ('из-за', None), ('бездействие', None), ('государство', None), ('решение_проблема', 32.19808612440192), ('климатический', None), ('кризис', None)]\n",
            "[('сегодня', None), ('состояться', None), ('слушание', None), ('дело', None), ('суд', None), ('париж', None), ('решение', None), ('который', None), ('вынести', None), ('течение_два', 33.53581174714849), ('неделя', None)]\n",
            "[('хотя', None), ('климатический', None), ('кризис', None), ('оставаться', None), ('один', None), ('главный', None), ('проблема', None), ('француз', None), ('2020', None), ('год', None), ('побить', None), ('новый', None), ('температурный_рекорд', 1246.1851851851852), ('государство', None), ('продолжать', None), ('откладывать', None), ('принятие', None), ('необходимый', None), ('мера', None)]\n",
            "[('выброс_парниковый', 7163.554838709678), ('газ', None), ('течение', None), ('последний', None), ('пять', None), ('год', None), ('продолжать_снижаться', 97.06713873590348), ('вдвое', None), ('медленный', None), ('показатель', None), ('предусмотренный_закон', 23.926368866765788)]\n",
            "[('декабрь_прошлое', 32.797668177329925), ('год', None), ('высокий', None), ('совет', None), ('климат', None), ('независимый', None), ('орган', None), ('создать', None), ('2018', None), ('год', None), ('состоять', None), ('эксперт', None), ('климат', None), ('проанализировать', None), ('два_треть', 122.73592483419307), ('план', None), ('стимулирование', None), ('работать', None), ('наоборот', None), ('мочь', None), ('способствовать_увеличение', 35.947649572649574), ('выброс', None)]\n",
            "[('greenpeace', None), ('франция', None), ('надеяться', None), ('суд', None), ('признать', None), ('обязанность', None), ('государство', None), ('бороться', None), ('климатический', None), ('кризис', None), ('это', None), ('подтверждать', None), ('хартия', None), ('окружающий_среда', 1235.6001943881001), ('2004', None), ('год', None), ('европейский', None), ('конвенция', None), ('право', None), ('человек', None)]\n",
            "[('такой', None), ('решение', None), ('исторический', None), ('закрепить', None), ('закон', None), ('борьба', None), ('изменение_климат', 22.309644364074746), ('играть_важный', 37.89335198962528), ('роль', None), ('защита', None), ('основа', None), ('ных', None), ('право', None), ('гражданин', None)]\n",
            "[('greenpeace', None), ('france', None), ('кроме', None), ('greenpeace', None), ('франция', None), ('ранее', None), ('запустить', None), ('петиция', None), ('дело', None), ('век', None), ('который', None), ('поддержать', None), ('два', None), ('миллион', None), ('гражданин', None)]\n",
            "[('климатический', None), ('кризис', None), ('оказывать', None), ('серьёзный', None), ('воздействие', None), ('жизнь', None), ('каждый', None), ('увеличение', None), ('день', None), ('экстремально', None), ('высокий', None), ('температура', None), ('приводить', None), ('повышение', None), ('смертность', None), ('человек', None), ('весь_мир', 40.3279349429289), ('расти', None), ('ареал', None), ('распространение', None), ('различный', None), ('вирус', None), ('инфекция', None)]\n",
            "[('россия', None), ('остро', None), ('стоить', None), ('необходимость', None), ('скорый', None), ('начало', None), ('технологический', None), ('трансформация', None), ('экономика', None), ('сторона', None), ('климатически', None), ('устойчивый', None), ('технология', None)]\n",
            "[('надеяться', None), ('судебный_процесс', 28.651508244381176), ('франция', None), ('выиграть', None), ('человек', None), ('стать', None), ('пример', None), ('число', None), ('наш', None), ('государство', None), ('вопрос', None), ('важность', None), ('срочный', None), ('принятие', None), ('мера', None), ('решение', None), ('климатический', None), ('кризис', None), ('прокомментировать', None), ('руководительница', None), ('энергетический', None), ('отдел', None), ('greenpeace', None), ('россия', None), ('елена', None), ('сакирко', None)]\n"
          ],
          "name": "stdout"
        }
      ]
    },
    {
      "cell_type": "code",
      "metadata": {
        "id": "DEMO09alANjO"
      },
      "source": [
        "phrases = Phrases(sentences, min_count=1, threshold=0.1, scoring=\"npmi\")"
      ],
      "execution_count": null,
      "outputs": []
    },
    {
      "cell_type": "code",
      "metadata": {
        "colab": {
          "base_uri": "https://localhost:8080/"
        },
        "id": "J4jJ9bNjAYpI",
        "outputId": "af64ab82-891b-4fb8-d612-edb73c28ef9e"
      },
      "source": [
        "for sent in greenpeace:\n",
        "  print(list(phrases.analyze_sentence(sent)))"
      ],
      "execution_count": null,
      "outputs": [
        {
          "output_type": "stream",
          "text": [
            "[('greenpeace', None), ('франция', None), ('совместно', None), ('другой', None), ('нко', None), ('notre', None), ('affaire', None), ('à', None), ('tous', None), ('фонд', None), ('николя', None), ('юло', None), ('oxfam', None), ('france', None), ('требовать', None), ('власть', None), ('возместить_ущерб', 0.4790059546268759), ('причинить', None), ('гражданин_страна', 0.2290841786891935), ('из-за', None), ('политика_область', 0.18152498750863436), ('экология', None), ('начать', None), ('активный_действие', 0.21599298740245998), ('рамка', None), ('предыдущий', None), ('соглашение', None)]\n",
            "[('соответствовать', None), ('иск', None), ('подать', None), ('ещё_год', 0.14872204044049056), ('назад', None), ('из-за', None), ('бездействие', None), ('государство', None), ('решение_проблема', 0.44096738255752593), ('климатический', None), ('кризис', None)]\n",
            "[('сегодня', None), ('состояться', None), ('слушание_дело', 0.23938249658613556), ('суд', None), ('париж', None), ('решение', None), ('который_вынести', 0.1603793295727316), ('течение_два', 0.4045199601198111), ('неделя', None)]\n",
            "[('хотя', None), ('климатический', None), ('кризис', None), ('оставаться_один', 0.26662997946425465), ('главный_проблема', 0.170203040789805), ('француз', None), ('2020', None), ('год', None), ('побить', None), ('новый', None), ('температурный_рекорд', 0.6655738191641665), ('государство_продолжать', 0.11438491191677852), ('откладывать', None), ('принятие_необходимый', 0.18564291541278838), ('мера', None)]\n",
            "[('выброс_парниковый', 0.813666373863354), ('газ', None), ('течение_последний', 0.3290439039931647), ('пять_год', 0.28544635671522556), ('продолжать_снижаться', 0.4595351207850376), ('вдвое', None), ('медленный', None), ('показатель', None), ('предусмотренный_закон', 0.3586766961362401)]\n",
            "[('декабрь_прошлое', 0.4091259106223807), ('год', None), ('высокий', None), ('совет', None), ('климат', None), ('независимый', None), ('орган', None), ('создать', None), ('2018', None), ('год', None), ('состоять', None), ('эксперт', None), ('климат', None), ('проанализировать', None), ('два_треть', 0.5028152782780072), ('план', None), ('стимулирование', None), ('работать', None), ('наоборот_мочь', 0.2390590556483694), ('способствовать_увеличение', 0.385976440680528), ('выброс', None)]\n",
            "[('greenpeace', None), ('франция', None), ('надеяться', None), ('суд_признать', 0.3165176331197336), ('обязанность', None), ('государство', None), ('бороться', None), ('климатический', None), ('кризис_это', 0.10802727123073975), ('подтверждать', None), ('хартия', None), ('окружающий_среда', 0.8577273842326527), ('2004', None), ('год', None), ('европейский_конвенция', 0.43152707313005034), ('право_человек', 0.3128086745185403)]\n",
            "[('такой_решение', 0.18885894301845166), ('исторический', None), ('закрепить', None), ('закон', None), ('борьба', None), ('изменение_климат', 0.34166509461043576), ('играть_важный', 0.39050989935752084), ('роль', None), ('защита', None), ('основа', None), ('ных', None), ('право_гражданин', 0.2693624538523313)]\n",
            "[('greenpeace', None), ('france', None), ('кроме', None), ('greenpeace', None), ('франция', None), ('ранее_запустить', 0.18425219039789276), ('петиция', None), ('дело', None), ('век', None), ('который', None), ('поддержать', None), ('два_миллион', 0.2287620517538381), ('гражданин', None)]\n",
            "[('климатический', None), ('кризис', None), ('оказывать', None), ('серьёзный', None), ('воздействие', None), ('жизнь_каждый', 0.16735653011510002), ('увеличение', None), ('день', None), ('экстремально', None), ('высокий_температура', 0.30243524063362326), ('приводить', None), ('повышение', None), ('смертность', None), ('человек', None), ('весь_мир', 0.4872878417439777), ('расти', None), ('ареал_распространение', 0.7163426198121314), ('различный', None), ('вирус', None), ('инфекция', None)]\n",
            "[('россия', None), ('остро_стоить', 0.39744355482784244), ('необходимость_скорый', 0.2935928388903522), ('начало', None), ('технологический', None), ('трансформация', None), ('экономика', None), ('сторона', None), ('климатически', None), ('устойчивый', None), ('технология', None)]\n",
            "[('надеяться', None), ('судебный_процесс', 0.3737340513515113), ('франция', None), ('выиграть', None), ('человек', None), ('стать', None), ('пример', None), ('число', None), ('наш_государство', 0.18708124633830386), ('вопрос', None), ('важность', None), ('срочный', None), ('принятие_мера', 0.18069775960565784), ('решение', None), ('климатический', None), ('кризис', None), ('прокомментировать', None), ('руководительница', None), ('энергетический', None), ('отдел', None), ('greenpeace', None), ('россия', None), ('елена', None), ('сакирко', None)]\n"
          ],
          "name": "stdout"
        }
      ]
    },
    {
      "cell_type": "markdown",
      "metadata": {
        "id": "igl8Is5Js6wR"
      },
      "source": [
        "# TF-IDF модель"
      ]
    },
    {
      "cell_type": "code",
      "metadata": {
        "id": "Y-z857dus9vm"
      },
      "source": [
        "# from gensim.test.utils import common_texts\n",
        "from gensim.models import TfidfModel\n",
        "from gensim.corpora import Dictionary"
      ],
      "execution_count": null,
      "outputs": []
    },
    {
      "cell_type": "code",
      "metadata": {
        "id": "WmGGYKeHvbSU"
      },
      "source": [
        "dct = Dictionary(greenpeace)\n",
        "corpus = [dct.doc2bow(line) for line in greenpeace]\n",
        "model = TfidfModel(corpus)"
      ],
      "execution_count": null,
      "outputs": []
    },
    {
      "cell_type": "code",
      "metadata": {
        "colab": {
          "base_uri": "https://localhost:8080/"
        },
        "id": "6qynKLT4yu9H",
        "outputId": "338ec175-8e75-464e-cd20-cd4ff850445d"
      },
      "source": [
        "list(dct.items())[:20]"
      ],
      "execution_count": null,
      "outputs": [
        {
          "output_type": "execute_result",
          "data": {
            "text/plain": [
              "[(0, 'affaire'),\n",
              " (1, 'france'),\n",
              " (2, 'greenpeace'),\n",
              " (3, 'notre'),\n",
              " (4, 'oxfam'),\n",
              " (5, 'tous'),\n",
              " (6, 'à'),\n",
              " (7, 'активный'),\n",
              " (8, 'власть'),\n",
              " (9, 'возместить'),\n",
              " (10, 'гражданин'),\n",
              " (11, 'действие'),\n",
              " (12, 'другой'),\n",
              " (13, 'из-за'),\n",
              " (14, 'начать'),\n",
              " (15, 'николя'),\n",
              " (16, 'нко'),\n",
              " (17, 'область'),\n",
              " (18, 'политика'),\n",
              " (19, 'предыдущий')]"
            ]
          },
          "metadata": {
            "tags": []
          },
          "execution_count": 49
        }
      ]
    },
    {
      "cell_type": "code",
      "metadata": {
        "colab": {
          "base_uri": "https://localhost:8080/"
        },
        "id": "UyLedhPWvptr",
        "outputId": "636716f0-641f-407d-a5fa-ea29992a9f52"
      },
      "source": [
        "for i in range(len(greenpeace)):\n",
        "  print(model[corpus[i]])"
      ],
      "execution_count": null,
      "outputs": [
        {
          "output_type": "stream",
          "text": [
            "[(0, 0.18985892373438726), (1, 0.13689911628976406), (2, 0.08393930884514088), (3, 0.18985892373438726), (4, 0.18985892373438726), (5, 0.18985892373438726), (6, 0.18985892373438726), (7, 0.18985892373438726), (8, 0.18985892373438726), (9, 0.18985892373438726), (10, 0.10591961488924638), (11, 0.18985892373438726), (12, 0.18985892373438726), (13, 0.13689911628976406), (14, 0.18985892373438726), (15, 0.18985892373438726), (16, 0.18985892373438726), (17, 0.18985892373438726), (18, 0.18985892373438726), (19, 0.18985892373438726), (20, 0.18985892373438726), (21, 0.18985892373438726), (22, 0.18985892373438726), (23, 0.18985892373438726), (24, 0.18985892373438726), (25, 0.18985892373438726), (26, 0.18985892373438726), (27, 0.18985892373438726), (28, 0.08393930884514088), (29, 0.18985892373438726), (30, 0.18985892373438726)]\n",
            "[(13, 0.2581276758167641), (31, 0.35798509183140703), (32, 0.12612335210415243), (33, 0.15827025980212123), (34, 0.35798509183140703), (35, 0.35798509183140703), (36, 0.12612335210415243), (37, 0.12612335210415243), (38, 0.35798509183140703), (39, 0.35798509183140703), (40, 0.2581276758167641), (41, 0.15827025980212123), (42, 0.35798509183140703)]\n",
            "[(41, 0.15087905360586645), (43, 0.3412672218271545), (44, 0.19038816822128807), (45, 0.24607313771651046), (46, 0.24607313771651046), (47, 0.3412672218271545), (48, 0.3412672218271545), (49, 0.3412672218271545), (50, 0.3412672218271545), (51, 0.3412672218271545), (52, 0.24607313771651046), (53, 0.24607313771651046)]\n",
            "[(32, 0.09205519405105889), (33, 0.11551865087255393), (36, 0.09205519405105889), (37, 0.09205519405105889), (40, 0.1884028048004816), (54, 0.2612869587284093), (55, 0.2612869587284093), (56, 0.1884028048004816), (57, 0.2612869587284093), (58, 0.2612869587284093), (59, 0.2612869587284093), (60, 0.2612869587284093), (61, 0.2612869587284093), (62, 0.2612869587284093), (63, 0.1884028048004816), (64, 0.1884028048004816), (65, 0.2612869587284093), (66, 0.2612869587284093), (67, 0.2612869587284093), (68, 0.2612869587284093)]\n",
            "[(32, 0.10525616171673809), (53, 0.21542028447593525), (64, 0.21542028447593525), (69, 0.29875622626071435), (70, 0.21542028447593525), (71, 0.29875622626071435), (72, 0.21542028447593525), (73, 0.29875622626071435), (74, 0.29875622626071435), (75, 0.29875622626071435), (76, 0.29875622626071435), (77, 0.29875622626071435), (78, 0.29875622626071435), (79, 0.29875622626071435)]\n",
            "[(32, 0.15215115069885188), (44, 0.12046477118603045), (70, 0.15569845808692157), (80, 0.2159308436799368), (81, 0.15569845808692157), (82, 0.2159308436799368), (83, 0.31139691617384313), (84, 0.2159308436799368), (85, 0.2159308436799368), (86, 0.2159308436799368), (87, 0.2159308436799368), (88, 0.2159308436799368), (89, 0.2159308436799368), (90, 0.2159308436799368), (91, 0.2159308436799368), (92, 0.2159308436799368), (93, 0.2159308436799368), (94, 0.2159308436799368), (95, 0.2159308436799368), (96, 0.2159308436799368), (97, 0.2159308436799368), (98, 0.15569845808692157), (99, 0.2159308436799368)]\n",
            "[(2, 0.11888492108624564), (28, 0.11888492108624564), (32, 0.09473772761086967), (33, 0.11888492108624564), (36, 0.09473772761086967), (37, 0.09473772761086967), (52, 0.19389295505055276), (100, 0.2689009890148599), (101, 0.2689009890148599), (102, 0.2689009890148599), (103, 0.2689009890148599), (104, 0.19389295505055276), (105, 0.2689009890148599), (106, 0.2689009890148599), (107, 0.2689009890148599), (108, 0.19389295505055276), (109, 0.2689009890148599), (110, 0.2689009890148599), (111, 0.2689009890148599), (112, 0.15001606792861424), (113, 0.2689009890148599)]\n",
            "[(10, 0.15433563660330282), (41, 0.12230809827058123), (72, 0.19947591657223263), (83, 0.19947591657223263), (108, 0.19947591657223263), (114, 0.27664373487388405), (115, 0.27664373487388405), (116, 0.27664373487388405), (117, 0.27664373487388405), (118, 0.27664373487388405), (119, 0.27664373487388405), (120, 0.27664373487388405), (121, 0.27664373487388405), (122, 0.27664373487388405), (123, 0.27664373487388405), (124, 0.27664373487388405)]\n",
            "[(1, 0.22622053134597195), (2, 0.2774129674813862), (10, 0.17502809521055773), (28, 0.1387064837406931), (44, 0.17502809521055773), (45, 0.22622053134597195), (46, 0.22622053134597195), (125, 0.31373457895125084), (126, 0.31373457895125084), (127, 0.31373457895125084), (128, 0.31373457895125084), (129, 0.31373457895125084), (130, 0.31373457895125084), (131, 0.31373457895125084)]\n",
            "[(36, 0.07762542147466416), (37, 0.07762542147466416), (81, 0.15887041769239568), (98, 0.15887041769239568), (112, 0.1229189341416549), (132, 0.22032988476322315), (133, 0.22032988476322315), (134, 0.22032988476322315), (135, 0.22032988476322315), (136, 0.22032988476322315), (137, 0.22032988476322315), (138, 0.22032988476322315), (139, 0.22032988476322315), (140, 0.22032988476322315), (141, 0.22032988476322315), (142, 0.22032988476322315), (143, 0.22032988476322315), (144, 0.22032988476322315), (145, 0.22032988476322315), (146, 0.22032988476322315), (147, 0.22032988476322315), (148, 0.22032988476322315), (149, 0.22032988476322315), (150, 0.22032988476322315)]\n",
            "[(151, 0.2826175754341595), (152, 0.2826175754341595), (153, 0.2826175754341595), (154, 0.2826175754341595), (155, 0.20378339644977464), (156, 0.2826175754341595), (157, 0.2826175754341595), (158, 0.2826175754341595), (159, 0.2826175754341595), (160, 0.2826175754341595), (161, 0.2826175754341595), (162, 0.2826175754341595), (163, 0.2826175754341595)]\n",
            "[(2, 0.1003224497837624), (28, 0.1003224497837624), (33, 0.1003224497837624), (36, 0.07994555435650477), (37, 0.07994555435650477), (41, 0.1003224497837624), (56, 0.1636188683035165), (63, 0.1636188683035165), (104, 0.1636188683035165), (112, 0.12659283703950824), (155, 0.1636188683035165), (164, 0.22691528682327064), (165, 0.22691528682327064), (166, 0.22691528682327064), (167, 0.22691528682327064), (168, 0.22691528682327064), (169, 0.22691528682327064), (170, 0.22691528682327064), (171, 0.22691528682327064), (172, 0.22691528682327064), (173, 0.22691528682327064), (174, 0.22691528682327064), (175, 0.22691528682327064), (176, 0.22691528682327064), (177, 0.22691528682327064), (178, 0.22691528682327064), (179, 0.22691528682327064)]\n"
          ],
          "name": "stdout"
        }
      ]
    },
    {
      "cell_type": "code",
      "metadata": {
        "colab": {
          "base_uri": "https://localhost:8080/"
        },
        "id": "6wB6IQivxgUT",
        "outputId": "b0727871-bbcd-4658-c3e0-424d34a5b5ab"
      },
      "source": [
        "for i in corpus:\n",
        "  print(i)"
      ],
      "execution_count": null,
      "outputs": [
        {
          "output_type": "stream",
          "text": [
            "[(0, 1), (1, 1), (2, 1), (3, 1), (4, 1), (5, 1), (6, 1), (7, 1), (8, 1), (9, 1), (10, 1), (11, 1), (12, 1), (13, 1), (14, 1), (15, 1), (16, 1), (17, 1), (18, 1), (19, 1), (20, 1), (21, 1), (22, 1), (23, 1), (24, 1), (25, 1), (26, 1), (27, 1), (28, 1), (29, 1), (30, 1)]\n",
            "[(13, 1), (31, 1), (32, 1), (33, 1), (34, 1), (35, 1), (36, 1), (37, 1), (38, 1), (39, 1), (40, 1), (41, 1), (42, 1)]\n",
            "[(41, 1), (43, 1), (44, 1), (45, 1), (46, 1), (47, 1), (48, 1), (49, 1), (50, 1), (51, 1), (52, 1), (53, 1)]\n",
            "[(32, 1), (33, 1), (36, 1), (37, 1), (40, 1), (54, 1), (55, 1), (56, 1), (57, 1), (58, 1), (59, 1), (60, 1), (61, 1), (62, 1), (63, 1), (64, 1), (65, 1), (66, 1), (67, 1), (68, 1)]\n",
            "[(32, 1), (53, 1), (64, 1), (69, 1), (70, 1), (71, 1), (72, 1), (73, 1), (74, 1), (75, 1), (76, 1), (77, 1), (78, 1), (79, 1)]\n",
            "[(32, 2), (44, 1), (70, 1), (80, 1), (81, 1), (82, 1), (83, 2), (84, 1), (85, 1), (86, 1), (87, 1), (88, 1), (89, 1), (90, 1), (91, 1), (92, 1), (93, 1), (94, 1), (95, 1), (96, 1), (97, 1), (98, 1), (99, 1)]\n",
            "[(2, 1), (28, 1), (32, 1), (33, 1), (36, 1), (37, 1), (52, 1), (100, 1), (101, 1), (102, 1), (103, 1), (104, 1), (105, 1), (106, 1), (107, 1), (108, 1), (109, 1), (110, 1), (111, 1), (112, 1), (113, 1)]\n",
            "[(10, 1), (41, 1), (72, 1), (83, 1), (108, 1), (114, 1), (115, 1), (116, 1), (117, 1), (118, 1), (119, 1), (120, 1), (121, 1), (122, 1), (123, 1), (124, 1)]\n",
            "[(1, 1), (2, 2), (10, 1), (28, 1), (44, 1), (45, 1), (46, 1), (125, 1), (126, 1), (127, 1), (128, 1), (129, 1), (130, 1), (131, 1)]\n",
            "[(36, 1), (37, 1), (81, 1), (98, 1), (112, 1), (132, 1), (133, 1), (134, 1), (135, 1), (136, 1), (137, 1), (138, 1), (139, 1), (140, 1), (141, 1), (142, 1), (143, 1), (144, 1), (145, 1), (146, 1), (147, 1), (148, 1), (149, 1), (150, 1)]\n",
            "[(151, 1), (152, 1), (153, 1), (154, 1), (155, 1), (156, 1), (157, 1), (158, 1), (159, 1), (160, 1), (161, 1), (162, 1), (163, 1)]\n",
            "[(2, 1), (28, 1), (33, 1), (36, 1), (37, 1), (41, 1), (56, 1), (63, 1), (104, 1), (112, 1), (155, 1), (164, 1), (165, 1), (166, 1), (167, 1), (168, 1), (169, 1), (170, 1), (171, 1), (172, 1), (173, 1), (174, 1), (175, 1), (176, 1), (177, 1), (178, 1), (179, 1)]\n"
          ],
          "name": "stdout"
        }
      ]
    },
    {
      "cell_type": "code",
      "metadata": {
        "colab": {
          "base_uri": "https://localhost:8080/"
        },
        "id": "APl6wH06yGaH",
        "outputId": "390d1604-9262-492c-a5fa-d59058d3e47e"
      },
      "source": [
        "set(greenpeace[3]).intersection(greenpeace[4])"
      ],
      "execution_count": null,
      "outputs": [
        {
          "output_type": "execute_result",
          "data": {
            "text/plain": [
              "{'год', 'продолжать'}"
            ]
          },
          "metadata": {
            "tags": []
          },
          "execution_count": 46
        }
      ]
    },
    {
      "cell_type": "markdown",
      "metadata": {
        "id": "1IwrT3X6zXRK"
      },
      "source": [
        "# Методы предобработки текста"
      ]
    },
    {
      "cell_type": "code",
      "metadata": {
        "colab": {
          "base_uri": "https://localhost:8080/",
          "height": 70
        },
        "id": "l5TU7ASvzea_",
        "outputId": "7641cc4f-747a-4ed5-eac5-428712682555"
      },
      "source": [
        "text = news.iloc[23].text\n",
        "text"
      ],
      "execution_count": null,
      "outputs": [
        {
          "output_type": "execute_result",
          "data": {
            "application/vnd.google.colaboratory.intrinsic+json": {
              "type": "string"
            },
            "text/plain": [
              "'Ирина Галат, Vласть Фото Жанары Каримовой За 2016 год нетто-покупка долларов США населением составила $1,4 млрд., что почти в 5,7 раза ниже объемов 2015 года. Данный уровень является минимальным годовым значением за всю историю наблюдений с 2001 года, информирует Национальный банк Казахстана в четверг.\\n'"
            ]
          },
          "metadata": {
            "tags": []
          },
          "execution_count": 53
        }
      ]
    },
    {
      "cell_type": "code",
      "metadata": {
        "id": "kQQfKt9fz81a"
      },
      "source": [
        "import gensim.parsing.preprocessing as pp"
      ],
      "execution_count": null,
      "outputs": []
    },
    {
      "cell_type": "markdown",
      "metadata": {
        "id": "GK1X0jlP0WK_"
      },
      "source": [
        "Функция `preprocess_documents` преобразует список строк с парметрами предобработки по умолчанию."
      ]
    },
    {
      "cell_type": "code",
      "metadata": {
        "colab": {
          "base_uri": "https://localhost:8080/"
        },
        "id": "vRMId1bw0HKI",
        "outputId": "df4be75b-7c62-47dd-ab48-8d1adf7ce2d2"
      },
      "source": [
        "for i in pp.preprocess_documents([news.iloc[23].text, news.iloc[24].text, news.iloc[25].text]):\n",
        "  print(i)"
      ],
      "execution_count": null,
      "outputs": [
        {
          "output_type": "stream",
          "text": [
            "['ирина', 'галат', 'vласть', 'фото', 'жанары', 'каримовой', 'год', 'нетто', 'покупка', 'долларов', 'сша', 'населением', 'составила', 'млрд', 'что', 'почти', 'раза', 'ниже', 'объемов', 'года', 'данный', 'уровень', 'является', 'минимальным', 'годовым', 'значением', 'всю', 'историю', 'наблюдений', 'года', 'информирует', 'национальный', 'банк', 'казахстана', 'четверг']\n",
            "['нпп', 'атамекен', 'возьмет', 'себя', 'функции', 'развитию', 'местного', 'содержания', 'экспорта', 'астана', 'ноября', 'интерфакс', 'казахстан', 'функции', 'национальных', 'агентств', 'развитию', 'местного', 'содержания', 'nadloc', 'экспорту', 'инвестициям', 'kaznex', 'invest', 'будут', 'переданы', 'национальной', 'палате', 'предпринимателей', 'атамекен', 'нпп', 'сообщил', 'председатель', 'правления', 'нпп', 'аблай', 'мырзахметов', 'для', 'получения', 'полных', 'текстов', 'публикаций', 'воспользуйтесь', 'платной', 'подпиской']\n",
            "['куандыку', 'бишимбаеву', 'грозит', 'лет', 'лишения', 'свободы', 'при', 'этом', 'других', 'подробностей', 'антикоррупционном', 'бюро', 'сих', 'пор', 'сообщают', 'известно', 'лишь', 'что', 'экс', 'министра', 'национальной', 'экономики', 'задержали', 'накануне', 'факту', 'получения', 'взяток', 'особо', 'крупном', 'размере', 'очевидно', 'что', 'речь', 'идёт', 'периоде', 'когда', 'бишимбаев', 'руководил', 'управляющим', 'холдингом', '«байтерек»', 'сообщает', 'ктк', 'задержание', 'куандыка', 'бишимбаева', 'хотя', 'ожидали', 'оно', 'все', 'равно', 'стало', 'громким', 'скупое', 'сообщение', 'антикоррупционной', 'службы', '«тратил', 'взятки', 'личные', 'нужды»', 'похоже', 'поставит', 'крест', 'его', 'головокружительной', 'карьере', 'ведь', 'одного', 'первых', 'выпускников', 'программе', '«болашак»', 'некоторые', 'даже', 'называли', 'воплощением', '«казахстанской', 'мечты»', 'хотели', 'брать', 'него', 'пример', 'действительно', 'его', 'имя', 'всё', 'время', 'сопровождало', 'словосочетание', '«самый', 'молодой»', 'год', 'главный', 'менеджер', '«банка', 'развития', 'казахстана»', 'советник', 'вице', 'премьера', 'затем', 'управляющий', 'холдинга', '«байтерек»', 'уже', 'целый', 'министр', 'жизни', 'казахстанского', 'вундеркинда', 'всё', 'происходило', 'стремительно', 'окончил', 'школу', 'получил', 'высшее', 'экономическое', 'образование', 'умудрился', 'закончить', 'еще', 'два', 'вуза', 'один', 'вашингтоне', 'другой', 'таразе', 'где', 'ректором', 'работал', 'его', 'отец', 'позже', 'валихан', 'бишимбаев', 'станет', 'депутатом', 'мажилиса', 'его', 'успешный', 'сын', 'отправится', 'правительство', 'сейчас', 'следователей', 'интересует', 'вполне', 'конкретный', 'период', 'когда', 'бишимбаев', 'возглавлял', 'холдинг', '«байтерек»', 'ноябре', 'задержали', 'целую', 'группу', 'топ', 'менеджеров', 'дочерней', 'компании', '«байтерек', 'development»', 'подозревают', 'получении', 'миллионных', 'взяток', 'бишимбаев', 'руководил', '«байтереком»', 'три', 'года', 'позже', 'заявил', 'что', 'догадывался', 'происходящем', 'ему', 'похоже', 'поверили', 'уже', 'конце', 'года', 'министра', 'уволили', 'нурсултан', 'назарбаев', 'президент', 'республики', 'казахстан', 'министр', 'национальной', 'экономики', 'отстранен', 'должности', 'связи', 'возникшими', 'вопросами', 'его', 'деятельности', 'холдинге', '«байтерек»', 'сейчас', 'идут', 'следственные', 'мероприятия', 'ничего', 'могу', 'сказать', 'пока', 'завершится', 'следствие', 'пост', 'министра', 'нацэкономики', 'бишимбаев', 'занимал', 'всего', 'месяцев', 'это', 'время', 'ведомство', 'разработало', 'программу', '«нурлы', 'жер»', 'бюджет', 'страны', 'три', 'года', 'гладко', 'было', 'всегда', 'бишимбаева', 'критиковали', 'были', 'недовольны', 'даже', 'посылали…', 'журналистам', 'нурлан', 'нигматулин', 'спикер', 'мажилиса', 'парламента', 'как', 'бюджетное', 'планирование', 'делаете', 'господин', 'министр', 'куандык', 'бишимбаев', 'министр', 'национальной', 'экономики', 'есть', 'три', 'программы', 'которых', 'этот', 'показатель', 'проходит', 'первая', 'программа', '«управление', 'водными', 'ресурсами»', 'которая', 'утверждена', 'году', 'там', 'указаны', 'индикаторы', 'которые', 'звучали', 'вопросе', 'нурлан', 'нигматулин', 'спикер', 'мажилиса', 'парламента', 'сейчас', 'будем', 'слушать', 'что', 'говорит', 'министр', 'тут', 'сми', 'присутствуют', 'вот', 'выйдите', 'прокомментируйте', 'пожалуйста', 'иногда', 'него', 'даже', 'плевали', 'прямом', 'конечно', 'смысле', 'чтобы', 'сглазить', 'видимо', 'помогло', 'кашаган', 'запустим', 'октябре', 'или', 'нет', 'все', 'идет', 'тому', 'что', 'возможно', 'два', 'раза', 'хочу', 'сплюнуть', 'вообще', 'плановый', 'был…', 'если', 'через', 'левое', 'плечо', 'досаева', 'если', 'через', 'правое', 'бишимбаева', 'кашаган', 'запустили', 'бишимбаеву', 'считать', 'прибыль', 'для', 'экономики', 'страны', 'судя', 'всему', 'суждено', 'возможно', 'скоротать', 'время', 'безработному', 'болашаковцу', 'помогут', 'другие', 'таланты', 'как', 'известно', 'куандык', 'валиханович', 'играет', 'саксофоне', 'неплохо', 'поет', 'пока', 'никаких', 'подробностей', 'антикоррупционном', 'бюро', 'сообщают', 'известно', 'что', 'бишимбаеву', 'грозит', 'лет', 'конфискацией', 'либо', 'штраф', 'раз', 'превышающий', 'сумму', 'полученных', 'взяток', 'если', 'конечно', 'вину', 'докажут', 'скорее', 'всего', 'следователи', 'допросах', 'сейчас', 'слушают', 'примерно', 'такую', 'речь', 'куандык', 'бишимбаев', 'министр', 'национальной', 'экономики', 'знаю', 'каких', 'деньгах', 'говорите', 'все', 'деньги', 'работают', 'осваиваются', 'ольга', 'юрьева']\n"
          ],
          "name": "stdout"
        }
      ]
    },
    {
      "cell_type": "markdown",
      "metadata": {
        "id": "KYWQx5RK006q"
      },
      "source": [
        "Аналогично работает функция `preprocess_string`, но только для одной строки."
      ]
    },
    {
      "cell_type": "code",
      "metadata": {
        "colab": {
          "base_uri": "https://localhost:8080/"
        },
        "id": "U712MF-n0wGD",
        "outputId": "91e0c884-4293-44d4-e29f-43bf19d5babb"
      },
      "source": [
        "print(pp.preprocess_string(text))"
      ],
      "execution_count": null,
      "outputs": [
        {
          "output_type": "stream",
          "text": [
            "['ирина', 'галат', 'vласть', 'фото', 'жанары', 'каримовой', 'год', 'нетто', 'покупка', 'долларов', 'сша', 'населением', 'составила', 'млрд', 'что', 'почти', 'раза', 'ниже', 'объемов', 'года', 'данный', 'уровень', 'является', 'минимальным', 'годовым', 'значением', 'всю', 'историю', 'наблюдений', 'года', 'информирует', 'национальный', 'банк', 'казахстана', 'четверг']\n"
          ],
          "name": "stdout"
        }
      ]
    },
    {
      "cell_type": "code",
      "metadata": {
        "colab": {
          "base_uri": "https://localhost:8080/"
        },
        "id": "beVa4Y1E0j-Y",
        "outputId": "623d59c6-ba21-4c21-fe8a-cc184a7080b2"
      },
      "source": [
        "print(pp.preprocess_string(text) == pp.preprocess_documents([text])[0])"
      ],
      "execution_count": null,
      "outputs": [
        {
          "output_type": "stream",
          "text": [
            "True\n"
          ],
          "name": "stdout"
        }
      ]
    },
    {
      "cell_type": "markdown",
      "metadata": {
        "id": "HFF1BlhT1vZ5"
      },
      "source": [
        "`strip_tags` очистит текст от тегов."
      ]
    },
    {
      "cell_type": "code",
      "metadata": {
        "colab": {
          "base_uri": "https://localhost:8080/",
          "height": 70
        },
        "id": "aefsb-7m1p8y",
        "outputId": "d389f6ee-9151-462c-f29c-3697b09e9fc5"
      },
      "source": [
        "pp.strip_tags(text)"
      ],
      "execution_count": null,
      "outputs": [
        {
          "output_type": "execute_result",
          "data": {
            "application/vnd.google.colaboratory.intrinsic+json": {
              "type": "string"
            },
            "text/plain": [
              "'Ирина Галат, Vласть Фото Жанары Каримовой За 2016 год нетто-покупка долларов США населением составила $1,4 млрд., что почти в 5,7 раза ниже объемов 2015 года. Данный уровень является минимальным годовым значением за всю историю наблюдений с 2001 года, информирует Национальный банк Казахстана в четверг.\\n'"
            ]
          },
          "metadata": {
            "tags": []
          },
          "execution_count": 69
        }
      ]
    },
    {
      "cell_type": "markdown",
      "metadata": {
        "id": "gVLSXH3-13wU"
      },
      "source": [
        "В этом тексте их не было. Для примера добавим какой-нибудь."
      ]
    },
    {
      "cell_type": "code",
      "metadata": {
        "colab": {
          "base_uri": "https://localhost:8080/",
          "height": 125
        },
        "id": "A-GtQCkt18DF",
        "outputId": "3cd8f663-deb4-44cb-e74e-b6b56b8e0555"
      },
      "source": [
        "text = \"<a>\" + text + \"</a>\"\n",
        "print(text)\n",
        "text = pp.strip_tags(text)\n",
        "text"
      ],
      "execution_count": null,
      "outputs": [
        {
          "output_type": "stream",
          "text": [
            "<a><a><a>Ирина Галат, Vласть Фото Жанары Каримовой За 2016 год нетто-покупка долларов США населением составила $1,4 млрд., что почти в 5,7 раза ниже объемов 2015 года. Данный уровень является минимальным годовым значением за всю историю наблюдений с 2001 года, информирует Национальный банк Казахстана в четверг.\n",
            "</a></a></a>\n"
          ],
          "name": "stdout"
        },
        {
          "output_type": "execute_result",
          "data": {
            "application/vnd.google.colaboratory.intrinsic+json": {
              "type": "string"
            },
            "text/plain": [
              "'Ирина Галат, Vласть Фото Жанары Каримовой За 2016 год нетто-покупка долларов США населением составила $1,4 млрд., что почти в 5,7 раза ниже объемов 2015 года. Данный уровень является минимальным годовым значением за всю историю наблюдений с 2001 года, информирует Национальный банк Казахстана в четверг.\\n'"
            ]
          },
          "metadata": {
            "tags": []
          },
          "execution_count": 73
        }
      ]
    },
    {
      "cell_type": "markdown",
      "metadata": {
        "id": "Hr7IS9Dc1N3F"
      },
      "source": [
        "Функцией `remove_stopwords` можно удалить стоп-слова."
      ]
    },
    {
      "cell_type": "code",
      "metadata": {
        "colab": {
          "base_uri": "https://localhost:8080/",
          "height": 70
        },
        "id": "-JA2F0001Tfg",
        "outputId": "a592e45f-0709-4926-ba06-af3f6c6dd199"
      },
      "source": [
        "text = pp.remove_stopwords(text)\n",
        "text"
      ],
      "execution_count": null,
      "outputs": [
        {
          "output_type": "execute_result",
          "data": {
            "application/vnd.google.colaboratory.intrinsic+json": {
              "type": "string"
            },
            "text/plain": [
              "'Ирина Галат, Vласть Фото Жанары Каримовой За 2016 год нетто-покупка долларов США населением составила $1,4 млрд., что почти в 5,7 раза ниже объемов 2015 года. Данный уровень является минимальным годовым значением за всю историю наблюдений с 2001 года, информирует Национальный банк Казахстана в четверг.'"
            ]
          },
          "metadata": {
            "tags": []
          },
          "execution_count": 74
        }
      ]
    },
    {
      "cell_type": "markdown",
      "metadata": {
        "id": "vlWXKms02QFO"
      },
      "source": [
        "Как видим, удалились только символы перехода на новую строку."
      ]
    },
    {
      "cell_type": "code",
      "metadata": {
        "colab": {
          "base_uri": "https://localhost:8080/",
          "height": 70
        },
        "id": "_Mq8sku42Xsy",
        "outputId": "70bac6d4-4209-441b-a4ff-da001adb92e5"
      },
      "source": [
        "text = pp.strip_punctuation(text)\n",
        "text"
      ],
      "execution_count": null,
      "outputs": [
        {
          "output_type": "execute_result",
          "data": {
            "application/vnd.google.colaboratory.intrinsic+json": {
              "type": "string"
            },
            "text/plain": [
              "'Ирина Галат  Vласть Фото Жанары Каримовой За 2016 год нетто покупка долларов США населением составила  1 4 млрд  что почти в 5 7 раза ниже объемов 2015 года  Данный уровень является минимальным годовым значением за всю историю наблюдений с 2001 года  информирует Национальный банк Казахстана в четверг '"
            ]
          },
          "metadata": {
            "tags": []
          },
          "execution_count": 75
        }
      ]
    },
    {
      "cell_type": "markdown",
      "metadata": {
        "id": "YJbkWxMb450L"
      },
      "source": [
        "Удаление чисел."
      ]
    },
    {
      "cell_type": "code",
      "metadata": {
        "colab": {
          "base_uri": "https://localhost:8080/",
          "height": 70
        },
        "id": "dXoeed1C27aJ",
        "outputId": "06a22266-740b-4624-8ddd-9290fa6db1d6"
      },
      "source": [
        "text = pp.strip_numeric(text)\n",
        "text"
      ],
      "execution_count": null,
      "outputs": [
        {
          "output_type": "execute_result",
          "data": {
            "application/vnd.google.colaboratory.intrinsic+json": {
              "type": "string"
            },
            "text/plain": [
              "'Ирина Галат Vласть Фото Жанары Каримовой  нетто покупка долларов населением составила млрд почти раза ниже объемов  года Данный уровень является минимальным годовым значением историю наблюдений  года информирует Национальный банк Казахстана четверг'"
            ]
          },
          "metadata": {
            "tags": []
          },
          "execution_count": 86
        }
      ]
    },
    {
      "cell_type": "markdown",
      "metadata": {
        "id": "wpWEdUmm48CN"
      },
      "source": [
        "Удаление лишних пробелов во всем тексте."
      ]
    },
    {
      "cell_type": "code",
      "metadata": {
        "colab": {
          "base_uri": "https://localhost:8080/",
          "height": 70
        },
        "id": "olWuSzTi2rOl",
        "outputId": "7acb50bc-28c2-4bf3-c6be-4730fe780d36"
      },
      "source": [
        "text = pp.strip_multiple_whitespaces(text)\n",
        "text"
      ],
      "execution_count": null,
      "outputs": [
        {
          "output_type": "execute_result",
          "data": {
            "application/vnd.google.colaboratory.intrinsic+json": {
              "type": "string"
            },
            "text/plain": [
              "'Ирина Галат Vласть Фото Жанары Каримовой нетто покупка долларов населением составила млрд почти раза ниже объемов года Данный уровень является минимальным годовым значением историю наблюдений года информирует Национальный банк Казахстана четверг'"
            ]
          },
          "metadata": {
            "tags": []
          },
          "execution_count": 87
        }
      ]
    },
    {
      "cell_type": "markdown",
      "metadata": {
        "id": "-KL838Yl4_lR"
      },
      "source": [
        "Удаление слишком коротких слов. Параметр `minsize` обозначает минимальную длину слова и по умолчанию равен 3."
      ]
    },
    {
      "cell_type": "code",
      "metadata": {
        "colab": {
          "base_uri": "https://localhost:8080/",
          "height": 70
        },
        "id": "ZolXpu-o3JyU",
        "outputId": "6269ec6e-4db1-4fc9-ffa0-6fa3fceebe23"
      },
      "source": [
        "text = pp.strip_short(text, minsize=4)\n",
        "text"
      ],
      "execution_count": null,
      "outputs": [
        {
          "output_type": "execute_result",
          "data": {
            "application/vnd.google.colaboratory.intrinsic+json": {
              "type": "string"
            },
            "text/plain": [
              "'Ирина Галат Vласть Фото Жанары Каримовой нетто покупка долларов населением составила млрд почти раза ниже объемов года Данный уровень является минимальным годовым значением историю наблюдений года информирует Национальный банк Казахстана четверг'"
            ]
          },
          "metadata": {
            "tags": []
          },
          "execution_count": 88
        }
      ]
    },
    {
      "cell_type": "markdown",
      "metadata": {
        "id": "ribrsiaf5HgA"
      },
      "source": [
        "`stem_text` делает стэмминг по Porter stemmer."
      ]
    },
    {
      "cell_type": "code",
      "metadata": {
        "colab": {
          "base_uri": "https://localhost:8080/",
          "height": 70
        },
        "id": "YTj1paHS3yUK",
        "outputId": "98bb7b5e-be3c-4cd8-812c-c0716da18d44"
      },
      "source": [
        "pp.stem_text(text)"
      ],
      "execution_count": null,
      "outputs": [
        {
          "output_type": "execute_result",
          "data": {
            "application/vnd.google.colaboratory.intrinsic+json": {
              "type": "string"
            },
            "text/plain": [
              "'ирина галат vласть фото жанары каримовой нетто покупка долларов населением составила млрд почти раза ниже объемов года данный уровень является минимальным годовым значением историю наблюдений года информирует национальный банк казахстана четверг'"
            ]
          },
          "metadata": {
            "tags": []
          },
          "execution_count": 89
        }
      ]
    },
    {
      "cell_type": "markdown",
      "metadata": {
        "id": "Lvy5eBEE4cMI"
      },
      "source": [
        "`stem_text` и `remove_stopwords` лгично использовать для английского языка, т.к. написаны они именно под него. Остальные функции вполне применимы к русскому.\n",
        "\n",
        "*Существенный недостаток*: обрабатывают текст они медленнее, чем аналогичные функции `nltk`."
      ]
    },
    {
      "cell_type": "markdown",
      "metadata": {
        "id": "y_GoCGzv9WMY"
      },
      "source": [
        "# Графы в networkx"
      ]
    },
    {
      "cell_type": "markdown",
      "metadata": {
        "id": "AWZi6_iw9kkg"
      },
      "source": [
        "`networkx` - это модуль для построения и анализа графов. Посмотрим, как строить самые простые и эгоцентричные графы. Подробно с библиотекой можно ознакомиться в [документации](https://networkx.org/documentation/stable//index.html), а также в **Практике 7**."
      ]
    },
    {
      "cell_type": "code",
      "metadata": {
        "id": "ydmtzepo9ZoY"
      },
      "source": [
        "import networkx as nx\n",
        "import matplotlib.pyplot as plt"
      ],
      "execution_count": null,
      "outputs": []
    },
    {
      "cell_type": "code",
      "metadata": {
        "colab": {
          "base_uri": "https://localhost:8080/"
        },
        "id": "G41_0xZb-DQR",
        "outputId": "9941b9cc-129c-4444-e02f-cf6daf6192c2"
      },
      "source": [
        "sims = model_ru.most_similar(positive=[\"аллигатор_S\"], topn=5) # топ-5 похожих слов для слова\n",
        "sims"
      ],
      "execution_count": null,
      "outputs": [
        {
          "output_type": "execute_result",
          "data": {
            "text/plain": [
              "[('хищник_S', 0.3991128206253052),\n",
              " ('мурена_S', 0.38718169927597046),\n",
              " ('бегемот_S', 0.3844783306121826),\n",
              " ('бизон_S', 0.38189974427223206),\n",
              " ('крокодил_S', 0.3761039972305298)]"
            ]
          },
          "metadata": {
            "tags": []
          },
          "execution_count": 117
        }
      ]
    },
    {
      "cell_type": "code",
      "metadata": {
        "colab": {
          "base_uri": "https://localhost:8080/"
        },
        "id": "FYRzapOw9_Ro",
        "outputId": "c8fcd98f-6c1d-4e12-d7aa-bf722d15a35a"
      },
      "source": [
        "G = nx.Graph()\n",
        "edges = [(\"аллигатор\", sim[0][:-2]) for sim in sims]\n",
        "edges"
      ],
      "execution_count": null,
      "outputs": [
        {
          "output_type": "execute_result",
          "data": {
            "text/plain": [
              "[('аллигатор', 'хищник'),\n",
              " ('аллигатор', 'мурена'),\n",
              " ('аллигатор', 'бегемот'),\n",
              " ('аллигатор', 'бизон'),\n",
              " ('аллигатор', 'крокодил')]"
            ]
          },
          "metadata": {
            "tags": []
          },
          "execution_count": 119
        }
      ]
    },
    {
      "cell_type": "code",
      "metadata": {
        "id": "JYKc4Sqj_uVv"
      },
      "source": [
        "G.add_edges_from(edges)"
      ],
      "execution_count": null,
      "outputs": []
    },
    {
      "cell_type": "code",
      "metadata": {
        "colab": {
          "base_uri": "https://localhost:8080/",
          "height": 319
        },
        "id": "pI7An1Fz_2W-",
        "outputId": "d8a01609-767d-4431-a055-88d51f29abcf"
      },
      "source": [
        "nx.draw(G, with_labels=True)"
      ],
      "execution_count": null,
      "outputs": [
        {
          "output_type": "display_data",
          "data": {
            "image/png": "[encoded data removed]",
            "text/plain": [
              "<Figure size 432x288 with 1 Axes>"
            ]
          },
          "metadata": {
            "tags": []
          }
        }
      ]
    },
    {
      "cell_type": "markdown",
      "metadata": {
        "id": "NlK1vc0YDWAj"
      },
      "source": [
        "Добавим веса на граф."
      ]
    },
    {
      "cell_type": "code",
      "metadata": {
        "colab": {
          "base_uri": "https://localhost:8080/"
        },
        "id": "UdbvupoiAoFi",
        "outputId": "82d05e71-975a-42df-e04c-ba491b623045"
      },
      "source": [
        "G = nx.Graph()\n",
        "edges = [(\"аллигатор\", sim[0][:-2], round(sim[1], 3)) for sim in sims]\n",
        "edges"
      ],
      "execution_count": null,
      "outputs": [
        {
          "output_type": "execute_result",
          "data": {
            "text/plain": [
              "[('аллигатор', 'хищник', 0.399),\n",
              " ('аллигатор', 'мурена', 0.387),\n",
              " ('аллигатор', 'бегемот', 0.384),\n",
              " ('аллигатор', 'бизон', 0.382),\n",
              " ('аллигатор', 'крокодил', 0.376)]"
            ]
          },
          "metadata": {
            "tags": []
          },
          "execution_count": 123
        }
      ]
    },
    {
      "cell_type": "code",
      "metadata": {
        "colab": {
          "base_uri": "https://localhost:8080/",
          "height": 319
        },
        "id": "IsEPSk6NAwGU",
        "outputId": "1c60f7e6-7e27-4cb2-fda1-b016373056a0"
      },
      "source": [
        "G.add_weighted_edges_from(edges)\n",
        "labels = nx.get_edge_attributes(G, \"weight\")\n",
        "pos = nx.spring_layout(G)\n",
        "nx.draw(G, pos, with_labels=True)\n",
        "nx.draw_networkx_edge_labels(G, pos, edge_labels=labels)\n",
        "plt.show()"
      ],
      "execution_count": null,
      "outputs": [
        {
          "output_type": "display_data",
          "data": {
            "image/png": "[encoded data removed]",
            "text/plain": [
              "<Figure size 432x288 with 1 Axes>"
            ]
          },
          "metadata": {
            "tags": []
          }
        }
      ]
    },
    {
      "cell_type": "markdown",
      "metadata": {
        "id": "fcHYoCl0DcHc"
      },
      "source": [
        "И так видно, какая вершина является центральной, но все же можно ее выделить, построив эгоцентричный граф."
      ]
    },
    {
      "cell_type": "code",
      "metadata": {
        "colab": {
          "base_uri": "https://localhost:8080/",
          "height": 319
        },
        "id": "WzoMeYSjDsg8",
        "outputId": "4ccf440b-2203-444a-c3b1-248d6d3ad2db"
      },
      "source": [
        "ego_network = nx.ego_graph(G, \"аллигатор\")\n",
        "pos = nx.spring_layout(ego_network)\n",
        "nx.draw(ego_network, pos, with_labels=True)\n",
        "nx.draw_networkx_edge_labels(ego_network, pos, edge_labels=labels)\n",
        "options = {\"node_size\": 300, \"node_color\": \"r\"}\n",
        "nx.draw_networkx_nodes(ego_network, pos, nodelist=[\"аллигатор\"], **options)\n",
        "plt.show()"
      ],
      "execution_count": null,
      "outputs": [
        {
          "output_type": "display_data",
          "data": {
            "image/png": "[encoded data removed]",
            "text/plain": [
              "<Figure size 432x288 with 1 Axes>"
            ]
          },
          "metadata": {
            "tags": []
          }
        }
      ]
    },
    {
      "cell_type": "markdown",
      "metadata": {
        "id": "cTbW5vyPEpC-"
      },
      "source": [
        "Видов графов существует значительно больше, и многие из них неплохо применяются при решении задач компьютерной лингвистики."
      ]
    }
  ]
}